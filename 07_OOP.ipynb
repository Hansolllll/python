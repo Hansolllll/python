{
 "cells": [
  {
   "cell_type": "markdown",
   "id": "93645864-cdf0-4556-a3c5-d3ae769223cc",
   "metadata": {},
   "source": [
    "# 객체지향 프로그래밍(OOP)\n",
    "\n",
    "- 클래스(class): 같은 종류의 집단에 속하는 속성(attribute)과 행위(method)를 **정의**한 것\n",
    "- 인스턴스(instance): 클래스를 실제로 메모리상에 할당한 것\n",
    "- 속성(attribute): 클래스/인스턴스가 가지고 있는 **데이터**/값\n",
    "- 행위(method): 클래스/인스턴스가 가지고 있는 **함수**/기능 "
   ]
  },
  {
   "cell_type": "code",
   "execution_count": 1,
   "id": "3c2d1d1a-34bf-461a-ad5a-645457288a6b",
   "metadata": {},
   "outputs": [],
   "source": [
    "number = 1 + 1j"
   ]
  },
  {
   "cell_type": "code",
   "execution_count": 2,
   "id": "c35d497c-cc7f-4ce0-aadf-da7197ececec",
   "metadata": {},
   "outputs": [
    {
     "data": {
      "text/plain": [
       "complex"
      ]
     },
     "execution_count": 2,
     "metadata": {},
     "output_type": "execute_result"
    }
   ],
   "source": [
    "type(number)"
   ]
  },
  {
   "cell_type": "code",
   "execution_count": 9,
   "id": "8836a959-73c7-48b5-9d4f-32e7b82b0ac5",
   "metadata": {},
   "outputs": [
    {
     "name": "stdout",
     "output_type": "stream",
     "text": [
      "1.0\n",
      "1.0\n"
     ]
    }
   ],
   "source": [
    "print(number.real)\n",
    "print(number.imag)\n",
    "# 넘버가 가지고 있는 속성에 접근"
   ]
  },
  {
   "cell_type": "code",
   "execution_count": 10,
   "id": "f6c9b58a-e702-41dc-b933-2f594cb070b8",
   "metadata": {},
   "outputs": [
    {
     "name": "stdout",
     "output_type": "stream",
     "text": [
      "<class 'list'>\n",
      "[4, 3, 2, 1]\n"
     ]
    }
   ],
   "source": [
    "my_list = [1, 2, 3, 4]\n",
    "print(type(my_list))\n",
    "my_list.reverse()\n",
    "print(my_list)\n",
    "# 마이리스트가 가진 행위에 접근"
   ]
  },
  {
   "cell_type": "code",
   "execution_count": 12,
   "id": "464447ca-741e-43e2-817d-53e70a9ad914",
   "metadata": {},
   "outputs": [],
   "source": [
    "power_a = False\n",
    "number_a = '010-1234-1234'\n",
    "book_a = {\n",
    "    '홍길동' : '010-1111-1111',\n",
    "    '이순신': '010-2222-2222',\n",
    "    }\n",
    "\n",
    "def on_a():\n",
    "    global power\n",
    "    if power == False:\n",
    "        power = True\n",
    "        print('핸드폰이 켜졌습니다.')\n",
    "\n",
    "\n",
    "on_a()"
   ]
  },
  {
   "cell_type": "markdown",
   "id": "60012cc9-f544-4086-80e6-0f3b54d39bc2",
   "metadata": {},
   "source": [
    "## class\n",
    "- 클래스 선언\n",
    "```python\n",
    "class ClassName:\n",
    "    attribute = value\n",
    "\n",
    "    def method_name(self):\n",
    "        code\n",
    "```\n",
    "- 인스턴스화\n",
    "```python\n",
    "ClassName()\n",
    "```"
   ]
  },
  {
   "cell_type": "code",
   "execution_count": 14,
   "id": "0c09dbb5-e146-466d-b08f-77253eac75e8",
   "metadata": {},
   "outputs": [],
   "source": [
    "# 선언\n",
    "class MyClass:\n",
    "    name = 'kim'\n",
    "\n",
    "    def hello(self):\n",
    "        return 'hello'"
   ]
  },
  {
   "cell_type": "code",
   "execution_count": 20,
   "id": "65e2ef16-e64d-4097-bb05-d286b4eb9678",
   "metadata": {},
   "outputs": [
    {
     "name": "stdout",
     "output_type": "stream",
     "text": [
      "<class '__main__.MyClass'>\n",
      "kim\n",
      "hello\n",
      "park\n",
      "hello\n"
     ]
    }
   ],
   "source": [
    "# 인스턴스화\n",
    "a = MyClass()\n",
    "print(type(a))\n",
    "\n",
    "print(a.name)\n",
    "print(a.hello())\n",
    "\n",
    "b = MyClass()\n",
    "b.name = 'park'\n",
    "print(b.name)\n",
    "print(b.hello())"
   ]
  },
  {
   "cell_type": "code",
   "execution_count": 31,
   "id": "f9f90eb9-a9ef-4487-8ead-33b918173c3b",
   "metadata": {},
   "outputs": [],
   "source": [
    "class Phone:\n",
    "    power = False\n",
    "    number = '010-0000-0000'\n",
    "    book = {}\n",
    "    model = ''\n",
    "\n",
    "    def on(self):\n",
    "        if self.power == False:\n",
    "            self.power = True\n",
    "\n",
    "    def off(self):\n",
    "        if self.power == True:\n",
    "            self.power = False\n",
    "\n",
    "    def call(self, target):\n",
    "        if self.power == True:\n",
    "            print(f'내 번호는 {self.number}닷')\n",
    "            print(f'{target}로 전화 거는중')\n",
    "        else:\n",
    "            print('핸드폰 켜랏')"
   ]
  },
  {
   "cell_type": "code",
   "execution_count": 32,
   "id": "d9d3a625-b014-4311-a517-1cf5f45fac22",
   "metadata": {},
   "outputs": [],
   "source": [
    "my_phone = Phone()\n",
    "your_phone = Phone()"
   ]
  },
  {
   "cell_type": "code",
   "execution_count": 33,
   "id": "1092c51e-9764-48ba-a358-6f8174c31630",
   "metadata": {},
   "outputs": [
    {
     "data": {
      "text/plain": [
       "False"
      ]
     },
     "execution_count": 33,
     "metadata": {},
     "output_type": "execute_result"
    }
   ],
   "source": [
    "my_phone.power"
   ]
  },
  {
   "cell_type": "code",
   "execution_count": 34,
   "id": "138e1446-5ef2-45fa-9908-74f556d9bf15",
   "metadata": {},
   "outputs": [
    {
     "name": "stdout",
     "output_type": "stream",
     "text": [
      "010-1234-1234\n"
     ]
    }
   ],
   "source": [
    "my_phone.number = '010-1234-1234'\n",
    "print(my_phone.number)"
   ]
  },
  {
   "cell_type": "code",
   "execution_count": 35,
   "id": "e8353adc-2b85-496e-b85c-210ee3d044e6",
   "metadata": {},
   "outputs": [
    {
     "name": "stdout",
     "output_type": "stream",
     "text": [
      "010-0000-0000\n"
     ]
    }
   ],
   "source": [
    "print(your_phone.number)"
   ]
  },
  {
   "cell_type": "code",
   "execution_count": 36,
   "id": "7fbd5efa-cf35-4ec3-8a2c-e1286f50dcbc",
   "metadata": {},
   "outputs": [
    {
     "name": "stdout",
     "output_type": "stream",
     "text": [
      "True\n",
      "False\n",
      "False\n"
     ]
    }
   ],
   "source": [
    "my_phone.on() # => my_phone.on(my_phone)\n",
    "print(my_phone.power)\n",
    "print(your_phone.power)\n",
    "\n",
    "my_phone.off()\n",
    "print(my_phone.power)"
   ]
  },
  {
   "cell_type": "code",
   "execution_count": 40,
   "id": "4f28e48b-8eb8-41ec-bd95-5943adbda4f0",
   "metadata": {},
   "outputs": [
    {
     "name": "stdout",
     "output_type": "stream",
     "text": [
      "내 번호는 010-1234-1234닷\n",
      "112로 전화 거는중\n",
      "내 번호는 010-0000-0000닷\n",
      "119로 전화 거는중\n"
     ]
    }
   ],
   "source": [
    "my_phone.on()\n",
    "my_phone.call('112')\n",
    "\n",
    "your_phone.on()\n",
    "your_phone.call('119')"
   ]
  },
  {
   "cell_type": "code",
   "execution_count": 67,
   "id": "d85b4960-f880-42dd-ba0b-f8cdca807e12",
   "metadata": {},
   "outputs": [],
   "source": [
    "# 연습\n",
    "class MyList:\n",
    "    data = []\n",
    "    \n",
    "    def append(self, item):\n",
    "        self.data = self.data + [item]\n",
    "        \n",
    "    def pop(self):\n",
    "        self.data = self.data[:-1]        \n",
    "    "
   ]
  },
  {
   "cell_type": "code",
   "execution_count": 69,
   "id": "88ae5d95-1fdb-4d89-84b1-03c228da21cd",
   "metadata": {},
   "outputs": [
    {
     "name": "stdout",
     "output_type": "stream",
     "text": [
      "[]\n",
      "[5]\n",
      "[5, 10]\n",
      "[5]\n"
     ]
    }
   ],
   "source": [
    "list_a = MyList()\n",
    "print(list_a.data)\n",
    "\n",
    "list_a.append(5)\n",
    "print(list_a.data)\n",
    "\n",
    "list_a.append(10)\n",
    "print(list_a.data)\n",
    "\n",
    "list_a.pop() \n",
    "print(list_a.data)"
   ]
  },
  {
   "cell_type": "code",
   "execution_count": 70,
   "id": "bd18d1d7-3ec0-4c03-a73b-b994c71ac6df",
   "metadata": {},
   "outputs": [
    {
     "name": "stdout",
     "output_type": "stream",
     "text": [
      "['일', '이', '삼']\n"
     ]
    }
   ],
   "source": [
    "list_b = MyList()\n",
    "list_b.append('일')\n",
    "list_b.append('이')\n",
    "list_b.append('삼')\n",
    "print(list_b.data)"
   ]
  },
  {
   "cell_type": "markdown",
   "id": "949913f3-357d-4cce-bded-7dc791b5d46b",
   "metadata": {},
   "source": [
    "## 생성자, 소멸자\n",
    "\n",
    "```python\n",
    "class MyClass:\n",
    "\n",
    "    def __init__(self):\n",
    "        pass\n",
    "    def __del__(self):\n",
    "        pass\n",
    "```"
   ]
  },
  {
   "cell_type": "code",
   "execution_count": 20,
   "id": "c23f3dc0-82f2-4bb3-8604-95ae4f209c75",
   "metadata": {},
   "outputs": [],
   "source": [
    "class Person:\n",
    "    name = 'noname'\n",
    "\n",
    "    def __init__(self, name='익명'):\n",
    "        self.name = name\n",
    "        print('생성됨')\n",
    "    # __init__는 인스턴스화 하는 과정에서 메소드 자동 실행됨\n",
    "\n",
    "    def __del__(self):\n",
    "        print('소멸됨')\n",
    "    # 객체를 소멸시킬때 사용"
   ]
  },
  {
   "cell_type": "code",
   "execution_count": 25,
   "id": "ad7281a8-2990-4536-a06b-deff2bece512",
   "metadata": {},
   "outputs": [
    {
     "name": "stdout",
     "output_type": "stream",
     "text": [
      "생성됨\n",
      "소멸됨\n",
      "<__main__.Person object at 0x105df4c90>\n",
      "kim\n",
      "생성됨\n",
      "소멸됨\n",
      "park\n",
      "생성됨\n",
      "소멸됨\n",
      "익명\n",
      "noname\n",
      "010-1234-1234\n"
     ]
    }
   ],
   "source": [
    "p1 = Person('kim') # => Person.__init__('kim')\n",
    "print(p1)\n",
    "print(p1.name)\n",
    "\n",
    "p2 = Person('park')\n",
    "print(p2.name)\n",
    "\n",
    "p3 = Person()\n",
    "print(p3.name)\n",
    "\n",
    "print(Person.name)\n",
    "\n",
    "p1.phone = '010-1234-1234'\n",
    "print(p1.phone)"
   ]
  },
  {
   "cell_type": "code",
   "execution_count": 17,
   "id": "2c663ab1-b975-4481-810a-4bf09a1589e6",
   "metadata": {},
   "outputs": [
    {
     "name": "stdout",
     "output_type": "stream",
     "text": [
      "소멸됨\n"
     ]
    }
   ],
   "source": [
    "del p1"
   ]
  },
  {
   "cell_type": "code",
   "execution_count": 19,
   "id": "78cb7c45-a59f-4ac7-b2a9-ce2f82280520",
   "metadata": {},
   "outputs": [
    {
     "ename": "NameError",
     "evalue": "name 'p1' is not defined",
     "output_type": "error",
     "traceback": [
      "\u001b[0;31m---------------------------------------------------------------------------\u001b[0m",
      "\u001b[0;31mNameError\u001b[0m                                 Traceback (most recent call last)",
      "Cell \u001b[0;32mIn[19], line 1\u001b[0m\n\u001b[0;32m----> 1\u001b[0m \u001b[38;5;28mprint\u001b[39m(\u001b[43mp1\u001b[49m)\n",
      "\u001b[0;31mNameError\u001b[0m: name 'p1' is not defined"
     ]
    }
   ],
   "source": [
    "print(p1)"
   ]
  },
  {
   "cell_type": "code",
   "execution_count": 43,
   "id": "e939daa4-ceb7-4c6c-afb1-7427c2497710",
   "metadata": {},
   "outputs": [],
   "source": [
    "# circle\n",
    "\n",
    "class Circle:\n",
    "    pi = 3.14\n",
    "\n",
    "    def __init__(self, r, x=0, y=0):\n",
    "        self.r = r\n",
    "        self.x = x\n",
    "        self.y = y\n",
    "\n",
    "    def area(self):\n",
    "        return self.pi * self.r ** 2\n",
    "\n",
    "    def move(self, x, y):\n",
    "        self.x = x\n",
    "        self.y = y\n",
    "        print(f'원의 중심이 {self.x},{self.y}로 이동했습니다.')\n",
    "\n",
    "    def center(self):\n",
    "        return (self.x, self.y)\n",
    "\n",
    "    def round(self):\n",
    "        return self.r * self.pi * 2\n",
    "        "
   ]
  },
  {
   "cell_type": "code",
   "execution_count": 44,
   "id": "8a333e24-df7e-4103-a810-345529333357",
   "metadata": {},
   "outputs": [
    {
     "name": "stdout",
     "output_type": "stream",
     "text": [
      "(5, 5)\n",
      "3\n",
      "28.26\n",
      "원의 중심이 0,0로 이동했습니다.\n",
      "10\n",
      "314.0\n",
      "원의 중심이 10,10로 이동했습니다.\n",
      "(0, 0)\n",
      "31.400000000000002\n"
     ]
    }
   ],
   "source": [
    "c1 = Circle(3, 5, 5)\n",
    "print(c1.center())\n",
    "print(c1.r)\n",
    "print(c1.area())\n",
    "c1.move(0, 0)\n",
    "\n",
    "c2 = Circle(10, 0, 0)\n",
    "print(c2.r)\n",
    "print(c2.area())\n",
    "c2.move(10, 10)\n",
    "\n",
    "c3 = Circle(5)\n",
    "print(c3.center())\n",
    "print(c3.round())"
   ]
  },
  {
   "cell_type": "code",
   "execution_count": 67,
   "id": "9042f58b-b155-49d6-b8a2-a888723d720a",
   "metadata": {},
   "outputs": [],
   "source": [
    "# Point\n",
    "class Point:\n",
    "    def __init__(self, x, y):\n",
    "        self.x = x\n",
    "        self.y = y\n",
    "        \n",
    "    def info(self):\n",
    "        return(self.x, self.y)\n",
    "\n",
    "# Circle\n",
    "class Circle:\n",
    "    def __init__(self, point, r):\n",
    "        self.point = point\n",
    "        self.r = r\n",
    "\n",
    "    def info(self):\n",
    "        return (self.point.x, self.point.y, self.r)\n",
    "\n",
    "    def move(self, x, y):\n",
    "        self.point.x = x\n",
    "        self.point.y = y\n",
    "        "
   ]
  },
  {
   "cell_type": "code",
   "execution_count": 68,
   "id": "ddc6849a-4d97-4f96-a0cb-c0559d0f02e3",
   "metadata": {},
   "outputs": [
    {
     "name": "stdout",
     "output_type": "stream",
     "text": [
      "3\n",
      "(3, 3)\n",
      "(3, 3)\n",
      "(3, 3, 10)\n",
      "(5, 5, 10)\n",
      "(5, 5)\n"
     ]
    }
   ],
   "source": [
    "p1 = Point(3, 3)\n",
    "print(p1.x)\n",
    "print(p1.info())\n",
    "\n",
    "c1 = Circle(p1, 10)\n",
    "print(c1.point.info())\n",
    "print(c1.info())\n",
    "c1.move(5, 5)\n",
    "print(c1.info())\n",
    "print(p1.info())"
   ]
  },
  {
   "cell_type": "code",
   "execution_count": 69,
   "id": "5ae9227c-0a49-4a86-b39a-1aa16ebf047a",
   "metadata": {},
   "outputs": [
    {
     "name": "stdout",
     "output_type": "stream",
     "text": [
      "(5, 5, 5)\n"
     ]
    }
   ],
   "source": [
    "c2 = Circle(p1, 5)\n",
    "print(c2.info())"
   ]
  },
  {
   "cell_type": "markdown",
   "id": "14d5b203-d469-4fdd-a82f-e14aba5f4e88",
   "metadata": {},
   "source": [
    "### 클래스변수\n",
    "- 클래스 선언 블록 최상단에 위치\n",
    "\n",
    "### 인스턴스변수\n",
    "- 인스턴스 내부에서 생성한 변수(`self.variable = `)\n",
    "\n",
    "```python\n",
    "class MyClass:\n",
    "    class_variable = '클래스변수'\n",
    "\n",
    "    def __init__(self, name):\n",
    "        self.instance_variable = '인스턴스변수'\n",
    "```"
   ]
  },
  {
   "cell_type": "code",
   "execution_count": 70,
   "id": "4daf814c-67ca-4562-b8e5-bc932e80693c",
   "metadata": {},
   "outputs": [],
   "source": [
    "class Person:\n",
    "    name = '홍길동'\n",
    "    phone = '010-1234-1234'\n",
    "\n",
    "    def __init__(self, name):\n",
    "        self.name = name"
   ]
  },
  {
   "cell_type": "code",
   "execution_count": 73,
   "id": "20105ca1-82be-4af8-a722-443d974f5bc7",
   "metadata": {},
   "outputs": [
    {
     "name": "stdout",
     "output_type": "stream",
     "text": [
      "오창희\n",
      "홍길동\n",
      "010-1234-1234\n"
     ]
    }
   ],
   "source": [
    "p1 = Person('오창희')\n",
    "print(p1.name)\n",
    "print(Person.name)\n",
    "\n",
    "print(p1.phone)\n",
    "# print(p1.location)"
   ]
  },
  {
   "cell_type": "markdown",
   "id": "1b1b547b-6f5b-4a5d-bb56-2a3d8035fc91",
   "metadata": {},
   "source": [
    "### 클래스메소드, 인스턴스메소드, 스태틱메소드\n",
    "\n",
    "```python\n",
    "class MyClass:\n",
    "    def instance_method(self):\n",
    "        pass\n",
    "\n",
    "    @classmethod\n",
    "    def class_method(cls):\n",
    "        pass\n",
    "\n",
    "    @staticmethod\n",
    "    def static_method():\n",
    "        pass\n",
    "```"
   ]
  },
  {
   "cell_type": "code",
   "execution_count": 74,
   "id": "5402db74-190b-4908-848e-1708247048b9",
   "metadata": {},
   "outputs": [],
   "source": [
    "class MyClass:\n",
    "    def instance_method(self):\n",
    "        return self\n",
    "\n",
    "    @classmethod\n",
    "    def class_method(cls):\n",
    "        return cls\n",
    "\n",
    "    @staticmethod\n",
    "    def static_method():\n",
    "        return 'hello'"
   ]
  },
  {
   "cell_type": "code",
   "execution_count": 80,
   "id": "06e8bff1-f7fb-47f1-a2ba-746addb5f6ea",
   "metadata": {},
   "outputs": [
    {
     "name": "stdout",
     "output_type": "stream",
     "text": [
      "<__main__.MyClass object at 0x105dba050>\n",
      "<class '__main__.MyClass'>\n",
      "<class '__main__.MyClass'>\n",
      "hello\n"
     ]
    }
   ],
   "source": [
    "c = MyClass()\n",
    "\n",
    "print(c.instance_method())\n",
    "print(c.class_method())\n",
    "print(MyClass.class_method())\n",
    "print(c.static_method())"
   ]
  },
  {
   "cell_type": "code",
   "execution_count": 103,
   "id": "d65e9db7-e3a3-4ca1-9646-5e13604d964f",
   "metadata": {},
   "outputs": [],
   "source": [
    "class Puppy:\n",
    "    num_of_puppy = 0\n",
    "    #거의 대부분의 데이터는 인스턴스메소드 사용 \n",
    "    def __init__(self, name):\n",
    "        self.name = name\n",
    "        Puppy.num_of_puppy += 1\n",
    "        \n",
    "    #클래스에 있는 데이터 사용하고 싶을때\n",
    "    @classmethod\n",
    "    def get_status(cls):\n",
    "        print(f'현재 강아지는 {cls.num_of_puppy}마리입니다.')\n",
    "        \n",
    "    #인스턴스나 클래스의 데이터를 사용하지 않을 때(인스턴스 접근 불가)\n",
    "    @staticmethod\n",
    "    def bark(msg):\n",
    "        return msg\n",
    "\n",
    "    def bark2(self, msg):\n",
    "        return f'{self.name}은 {msg}합니다.'"
   ]
  },
  {
   "cell_type": "code",
   "execution_count": 104,
   "id": "593aba42-35ce-4796-8f98-5cc1d539cf57",
   "metadata": {},
   "outputs": [
    {
     "name": "stdout",
     "output_type": "stream",
     "text": [
      "3\n",
      "3\n",
      "현재 강아지는 3마리입니다.\n",
      "현재 강아지는 3마리입니다.\n",
      "멍멍\n",
      "으르렁\n",
      "인절미은 멍멍합니다.\n"
     ]
    }
   ],
   "source": [
    "p1 = Puppy('인절미')\n",
    "p2 = Puppy('백구')\n",
    "p3 = Puppy('흰둥이')\n",
    "\n",
    "print(Puppy.num_of_puppy)\n",
    "print(p1.num_of_puppy)\n",
    "\n",
    "Puppy.get_status()\n",
    "p1.get_status()\n",
    "\n",
    "print(p1.bark('멍멍'))\n",
    "print(p2.bark('으르렁'))\n",
    "\n",
    "print(p1.bark2('멍멍'))"
   ]
  },
  {
   "cell_type": "markdown",
   "id": "2e9210b3-f3e8-4494-9931-ca0c58058824",
   "metadata": {},
   "source": [
    "## 상속\n",
    "-> 부모의 정보를 가지고 오는 것"
   ]
  },
  {
   "cell_type": "code",
   "execution_count": 106,
   "id": "54a812aa-ed1b-47a9-b556-de3a3c63334e",
   "metadata": {},
   "outputs": [],
   "source": [
    "class Person:\n",
    "    def __init__(self, name):\n",
    "        self.name = name\n",
    "\n",
    "    def greeting(self):\n",
    "        print(f'안녕하세요. {self.name}입니다.')"
   ]
  },
  {
   "cell_type": "code",
   "execution_count": 107,
   "id": "c76d45c7-4965-4181-898e-e5f536411bd0",
   "metadata": {},
   "outputs": [
    {
     "name": "stdout",
     "output_type": "stream",
     "text": [
      "안녕하세요. 홍길동입니다.\n"
     ]
    }
   ],
   "source": [
    "p1 = Person('홍길동')\n",
    "p2 = Person('이순신')\n",
    "\n",
    "p1.greeting()"
   ]
  },
  {
   "cell_type": "code",
   "execution_count": 108,
   "id": "015745de-3143-44da-96b5-d16db2089af1",
   "metadata": {},
   "outputs": [],
   "source": [
    "class Student:\n",
    "    \n",
    "    def __init__(self, name, student_id):\n",
    "        self.name = name\n",
    "        self.student_id = student_id\n",
    "        \n",
    "    def greeting(self):\n",
    "        print(f'안녕하세요. {self.name}입니다.')"
   ]
  },
  {
   "cell_type": "code",
   "execution_count": 112,
   "id": "d0bf8045-2956-46f6-9946-c27464093fec",
   "metadata": {},
   "outputs": [
    {
     "name": "stdout",
     "output_type": "stream",
     "text": [
      "안녕하세요. 박퐁입니다.\n"
     ]
    }
   ],
   "source": [
    "s1 = Student('박퐁', '12333')\n",
    "s1.greeting()"
   ]
  },
  {
   "cell_type": "code",
   "execution_count": 113,
   "id": "6bc5f04e-10f9-4274-b8c3-3cedb71df758",
   "metadata": {},
   "outputs": [],
   "source": [
    "class Soldier:\n",
    "\n",
    "    def __init__(self, name, soldier_id):\n",
    "        self.name = name\n",
    "        self.soldier_id = soldier_id\n",
    "\n",
    "    def greeting(self):\n",
    "        print(f'충성 {self.name}입니다.')"
   ]
  },
  {
   "cell_type": "code",
   "execution_count": 114,
   "id": "f7bc7038-dd6a-46d3-a858-a81c00a293c0",
   "metadata": {},
   "outputs": [
    {
     "name": "stdout",
     "output_type": "stream",
     "text": [
      "충성 국방이입니다.\n"
     ]
    }
   ],
   "source": [
    "s2 = Soldier('국방이', '1113131')\n",
    "s2.greeting()"
   ]
  },
  {
   "cell_type": "code",
   "execution_count": 123,
   "id": "ccbeec6c-053d-46d4-8edd-64534a097c43",
   "metadata": {},
   "outputs": [],
   "source": [
    "class Student(Person):\n",
    "    # def __init__(self, name):\n",
    "    #     self.name = name\n",
    "\n",
    "    # def greeting(self):\n",
    "    #     print(f'안녕하세요. {self.name}입니다.')\n",
    "\n",
    "    def __init__(self, name, student_id):\n",
    "        self.name = name\n",
    "        self.student_id = student_id\n",
    "#student 클래스가 이미 있는데 새로 정의 하면 변수를 새로 정리하는 것과 같이 덮어씌운다는 의미"
   ]
  },
  {
   "cell_type": "code",
   "execution_count": 124,
   "id": "7c12d8d4-157f-4fc8-a053-34412803e7ad",
   "metadata": {},
   "outputs": [
    {
     "name": "stdout",
     "output_type": "stream",
     "text": [
      "안녕하세요. 박퐁입니다.\n"
     ]
    }
   ],
   "source": [
    "s1 = Student('박퐁', '111')\n",
    "s1.greeting()"
   ]
  },
  {
   "cell_type": "code",
   "execution_count": 125,
   "id": "2bc076ee-886b-428c-85d4-ac01d8957501",
   "metadata": {},
   "outputs": [],
   "source": [
    "class Soldier(Person):\n",
    "    def __init__(self, name, soldier_id):\n",
    "        self.name = name\n",
    "        self.soldier_id = soldier_id\n",
    "\n",
    "    def greeting(self):\n",
    "        print(f'충성입니다요 {self.name}입니다요')\n",
    "\n",
    "# soldier의 경우 Person을 상속받더라도 내부 init 내부 데이터도 다르고 greeting도 다르므로 새로 써줘야함, 상황과 코드에 따라 달라짐"
   ]
  },
  {
   "cell_type": "code",
   "execution_count": 126,
   "id": "a3754c0c-bde8-487d-bfcd-2d225fa4fb7a",
   "metadata": {},
   "outputs": [],
   "source": [
    "class Person:\n",
    "    def __init__(self, name, email, phone, location):\n",
    "        self.name = name\n",
    "        self.email = email\n",
    "        self.phone = phone\n",
    "        self.location = location\n",
    "\n",
    "class Student(Person):\n",
    "    def __init__(self, name, email, phone, location, student_id):\n",
    "        self.name = name\n",
    "        self.email = email\n",
    "        self.phone = phone\n",
    "        self.location = location\n",
    "        self.student_id = student_id\n",
    "\n",
    "class Soldier(Person):\n",
    "    def __init__(self, name, email, phone, location, soldier_id):\n",
    "        # super() => Person(부모클래스)\n",
    "        super().__init__(name, email, phone, location)\n",
    "        self.solder_id = soldier_id"
   ]
  },
  {
   "cell_type": "markdown",
   "id": "4aaaa596-8127-4b32-ab66-9c648f85400f",
   "metadata": {},
   "source": [
    "## 다중상속"
   ]
  },
  {
   "cell_type": "code",
   "execution_count": 127,
   "id": "5846fad2-3e32-4291-9ad6-1461a08d97d0",
   "metadata": {},
   "outputs": [],
   "source": [
    "class Person:\n",
    "    def __init__(self, name):\n",
    "        self.name = name\n",
    "\n",
    "    def breath(self):\n",
    "        print('후하')"
   ]
  },
  {
   "cell_type": "code",
   "execution_count": 141,
   "id": "fce29db0-cc5b-4bdb-a0bb-be5010ec556f",
   "metadata": {},
   "outputs": [],
   "source": [
    "class Mom(Person):\n",
    "    gene = 'xx'\n",
    "\n",
    "    def swim(self):\n",
    "        print('어푸어풉풉푸하')"
   ]
  },
  {
   "cell_type": "code",
   "execution_count": 142,
   "id": "261f79f7-f547-4b68-887a-598b38bddaed",
   "metadata": {},
   "outputs": [],
   "source": [
    "class Dad(Person):\n",
    "    gene = 'xy'\n",
    "\n",
    "    def run(self):\n",
    "        print('다다다다다다다다다ㅏ다닷')"
   ]
  },
  {
   "cell_type": "code",
   "execution_count": 143,
   "id": "7eb8bc63-4eac-438b-a54a-a08a28c683d3",
   "metadata": {},
   "outputs": [],
   "source": [
    "class Baby(Mom, Dad):\n",
    "    pass"
   ]
  },
  {
   "cell_type": "code",
   "execution_count": 144,
   "id": "2b66df50-ba38-4215-af5d-08198f2a0038",
   "metadata": {},
   "outputs": [
    {
     "name": "stdout",
     "output_type": "stream",
     "text": [
      "금쪽이\n",
      "xx\n",
      "어푸어풉풉푸하\n",
      "다다다다다다다다다ㅏ다닷\n",
      "후하\n"
     ]
    }
   ],
   "source": [
    "b = Baby('금쪽이')\n",
    "print(b.name)\n",
    "print(b.gene)\n",
    "# 여러 클래스를 상속시킬 때, 우선순위는 앞에 있는 클래스\n",
    "\n",
    "b.swim()\n",
    "b.run()\n",
    "b.breath()"
   ]
  }
 ],
 "metadata": {
  "kernelspec": {
   "display_name": "Python 3 (ipykernel)",
   "language": "python",
   "name": "python3"
  },
  "language_info": {
   "codemirror_mode": {
    "name": "ipython",
    "version": 3
   },
   "file_extension": ".py",
   "mimetype": "text/x-python",
   "name": "python",
   "nbconvert_exporter": "python",
   "pygments_lexer": "ipython3",
   "version": "3.11.5"
  }
 },
 "nbformat": 4,
 "nbformat_minor": 5
}
