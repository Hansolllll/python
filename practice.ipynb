{
 "cells": [
  {
   "cell_type": "code",
   "execution_count": 1,
   "id": "c1cdb111-8c28-4a02-a39a-8b04af0cd26b",
   "metadata": {},
   "outputs": [],
   "source": [
    "class HogwartStudent:\n",
    "    def __init__(self, name):\n",
    "        self.name = name\n",
    "        self.power = 10\n",
    "        self.hp = self.power * 4\n",
    "        self.point = 0\n",
    "    \n",
    "    def attack(self, enemy):\n",
    "        damage = self.power * 0.5\n",
    "        enemy.hp -= damage        \n",
    "        if enemy.hp <= 0:\n",
    "            self.point += 20 \n",
    "            print(f'{enemy}가 쓰러졌당!')\n",
    "            print(f'{self.name}는 20점을 얻었당!')\n",
    "    \n",
    "class Gryffindor():\n",
    "    house_value = 'bravery'\n",
    "\n",
    "class Slytherin():\n",
    "    house_value = 'pureness'\n",
    "\n",
    "\n",
    "class GryffindorStudent(HogwartStudent, Gryffindor):\n",
    "    \n",
    "    def bravery_attack1(self, enemy):\n",
    "        if enemy.house_value == 'pureness':\n",
    "            damage = random.randint(1, 10)\n",
    "        else:\n",
    "            damage = self.power * 0.5\n",
    "        enemy.hp = enemy.hp - damage\n",
    "        print(f'{self.name}가 {enemy.name}에게 {damage}만큼 공격했당!')\n",
    "        print(f'{enemy.name}의 체력이 {enemy.hp} 남았당!')\n",
    "    \n",
    "    def bravery_attack2(self, enemy):\n",
    "        damage = random.randint(1, 5)\n",
    "        enemy.hp -= damage\n",
    "        print(f'{self.name}가 {enemy.name}에게 {damage}만큼 공격했당!')\n",
    "        print(f'{enemy.name}의 체력이 {enemy.hp} 남았당!')\n",
    "\n",
    "class SlytherinStudent(HogwartStudent, Slytherin):\n",
    "    def pureness_attack1(self, enemy):\n",
    "        damage = self.power * 2\n",
    "        enemy.hp -= damage\n",
    "        print(f'{self.name}가 {enemy.name}에게 {damage}만큼 공격했당!')\n",
    "        print(f'{enemy.name}의 체력이 {enemy.hp} 남았당!')\n",
    "\n",
    "    def pureness_attack2(self, enemy):\n",
    "        damage = 7\n",
    "        enemy.hp -= damage\n",
    "        print(f'{self.name}가 {enemy.name}에게 {damage}만큼 공격했당!')\n",
    "        print(f'{enemy.name}의 체력이 {enemy.hp} 남았당!')\n"
   ]
  },
  {
   "cell_type": "code",
   "execution_count": 2,
   "id": "28d7ef41-50ca-4aa8-9840-c93e082171ea",
   "metadata": {},
   "outputs": [],
   "source": [
    "harry = GryffindorStudent('해리포터')\n",
    "malfoy = SlytherinStudent('셧업말포이')"
   ]
  },
  {
   "cell_type": "code",
   "execution_count": 3,
   "id": "27a0b752-9689-4b79-acdc-d37548d5cacc",
   "metadata": {},
   "outputs": [
    {
     "name": "stdout",
     "output_type": "stream",
     "text": [
      "해리포터가 셧업말포이에게 10만큼 공격했당!\n",
      "셧업말포이의 체력이 30 남았당!\n",
      "셧업말포이가 해리포터에게 20만큼 공격했당!\n",
      "해리포터의 체력이 20 남았당!\n",
      "해리포터가 셧업말포이에게 10만큼 공격했당!\n",
      "셧업말포이의 체력이 20 남았당!\n",
      "셧업말포이가 해리포터에게 20만큼 공격했당!\n",
      "해리포터의 체력이 0 남았당!\n",
      "결투 끝! 셧업말포이가 이겼당!\n"
     ]
    }
   ],
   "source": [
    "import random\n",
    "\n",
    "# while not harry.check_hp() or not malfoy.check_hp():\n",
    "#     attack_chance = random.choice([0, 1])\n",
    "    \n",
    "#     if attack_chance:\n",
    "#         harry.bravery_attack1(malfoy)\n",
    "#     else:\n",
    "#         malfoy.pureness_attack2(harry)\n",
    "#     if harry.check_hp():\n",
    "#         print(f'결투 끝! {harry.name}가 이겼당!')\n",
    "#         break\n",
    "        \n",
    "#     if attack_chance:\n",
    "#         malfoy.pureness_attack1(harry)\n",
    "#     else:\n",
    "#         malfoy.pureness_attack2(harry)\n",
    "#     if malfoy.check_hp():\n",
    "#         print(f'결투 끝! {malfoy.name}가 이겼당!')\n",
    "        \n",
    "while harry.hp and malfoy.hp > 0:\n",
    "    \n",
    "    if random.choice([0, 1]):\n",
    "        harry.bravery_attack1(malfoy)\n",
    "\n",
    "    else: \n",
    "        malfoy.pureness_attack1(harry)\n",
    "\n",
    "    if harry.hp <= 0:\n",
    "        print(f'결투 끝! {malfoy.name}가 이겼당!')\n",
    "    elif malfoy.hp <= 0:\n",
    "        print((f'결투 끝! {harry.name}가 이겼당!'))\n",
    "  \n",
    "        \n",
    "\n",
    "\n",
    "\n",
    "\n"
   ]
  },
  {
   "cell_type": "code",
   "execution_count": null,
   "id": "fd36d8a3-e874-4969-8db1-d6d9f1a48e61",
   "metadata": {},
   "outputs": [],
   "source": []
  },
  {
   "cell_type": "code",
   "execution_count": null,
   "id": "ef4061b9-a466-4542-bee5-d237a14366b4",
   "metadata": {},
   "outputs": [],
   "source": []
  }
 ],
 "metadata": {
  "kernelspec": {
   "display_name": "Python 3 (ipykernel)",
   "language": "python",
   "name": "python3"
  },
  "language_info": {
   "codemirror_mode": {
    "name": "ipython",
    "version": 3
   },
   "file_extension": ".py",
   "mimetype": "text/x-python",
   "name": "python",
   "nbconvert_exporter": "python",
   "pygments_lexer": "ipython3",
   "version": "3.11.5"
  }
 },
 "nbformat": 4,
 "nbformat_minor": 5
}
