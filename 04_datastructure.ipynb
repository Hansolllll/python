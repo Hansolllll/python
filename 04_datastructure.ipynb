{
 "cells": [
  {
   "cell_type": "code",
   "execution_count": null,
   "id": "2d686168-0568-42a8-89ce-32430efd4afa",
   "metadata": {},
   "outputs": [],
   "source": [
    "print('hello')"
   ]
  },
  {
   "cell_type": "code",
   "execution_count": null,
   "id": "6f42f08c-d1bd-4ae1-ad02-a34947bf502d",
   "metadata": {},
   "outputs": [],
   "source": [
    "''.join(['일', '이', '삼'])"
   ]
  },
  {
   "cell_type": "code",
   "execution_count": null,
   "id": "7ee123b6-8e19-4ec0-a05f-793c1747feb5",
   "metadata": {},
   "outputs": [],
   "source": [
    "dir(1)"
   ]
  },
  {
   "cell_type": "markdown",
   "id": "2ba5601a-350a-46b1-9f56-f4e5fae4db4c",
   "metadata": {},
   "source": [
    "# 문자열 메소드"
   ]
  },
  {
   "cell_type": "code",
   "execution_count": null,
   "id": "2f45c81b-73c8-4e31-bb46-9317f87ff249",
   "metadata": {},
   "outputs": [],
   "source": [
    "객체 안에 들어있는 함수 => 메소드"
   ]
  },
  {
   "cell_type": "code",
   "execution_count": null,
   "id": "3edc11a3-7cb6-43aa-9c0f-5f401a167269",
   "metadata": {},
   "outputs": [],
   "source": [
    "a = 'hello my name is hansol'"
   ]
  },
  {
   "cell_type": "code",
   "execution_count": null,
   "id": "a5b2fc0b-05ad-4315-8d96-2057d9eb820b",
   "metadata": {},
   "outputs": [],
   "source": [
    "# 문자열은 immutable하기 때문에 수정 불가능\n",
    "a[0] = 'H'"
   ]
  },
  {
   "cell_type": "code",
   "execution_count": null,
   "id": "ccd98c28-1bc5-48cd-bcbd-717343b21327",
   "metadata": {},
   "outputs": [],
   "source": [
    "a = a.capitalize()\n",
    "print(a)"
   ]
  },
  {
   "cell_type": "code",
   "execution_count": null,
   "id": "c90a362b-c13e-4b11-aa1c-573b73032ed3",
   "metadata": {},
   "outputs": [],
   "source": [
    "a.title()"
   ]
  },
  {
   "cell_type": "code",
   "execution_count": null,
   "id": "2b6d0181-2707-400d-946b-e457b4a4d889",
   "metadata": {},
   "outputs": [],
   "source": [
    "a.upper()"
   ]
  },
  {
   "cell_type": "code",
   "execution_count": null,
   "id": "89486bd2-ea96-463f-b9f1-2f5856ef5bbf",
   "metadata": {},
   "outputs": [],
   "source": [
    "a.lower()"
   ]
  },
  {
   "cell_type": "code",
   "execution_count": null,
   "id": "d1cfa26e-fa43-4f2d-b799-09b3ca01adad",
   "metadata": {},
   "outputs": [],
   "source": [
    "print(a)"
   ]
  },
  {
   "cell_type": "code",
   "execution_count": null,
   "id": "9730a6d3-436e-42cf-88b9-b4712fe451f1",
   "metadata": {},
   "outputs": [],
   "source": [
    "# 연산만하고 return해줌, 값 자체를 수정하진 않음"
   ]
  },
  {
   "cell_type": "code",
   "execution_count": null,
   "id": "77032c66-81c0-4dc7-91bb-238950576510",
   "metadata": {},
   "outputs": [],
   "source": [
    "my_list = ['hi', 'my', 'name']\n",
    "print(''.join(my_list))\n",
    "print('??'.join(my_list))"
   ]
  },
  {
   "cell_type": "code",
   "execution_count": null,
   "id": "0f26c678-583e-4672-b64e-32bb9294ea60",
   "metadata": {},
   "outputs": [],
   "source": [
    "# .strip([chars])\n",
    "# [] -> [] 내부를 넣어도 되고 안넣어도 됨, 넣으면 넣은 걸 지우고 안넣으면 공백을 지워줌\n",
    "# 문자열 좌우의 공백을 제거함(줄바꿈, white space 등)\n",
    "my_string = '       hello\\n   '\n",
    "print(my_string)\n",
    "print(my_string.strip())\n",
    "\n",
    "my_string2 = 'hihihihihihellohihi'\n",
    "print(my_string2.strip())\n",
    "print(my_string2.strip('hi'))\n",
    "print(my_string2.lstrip('hi'))\n",
    "print(my_string2.rstrip('hi'))\n"
   ]
  },
  {
   "cell_type": "code",
   "execution_count": null,
   "id": "5f5b1e3a-644b-4643-85ca-3d6aa4667b87",
   "metadata": {},
   "outputs": [],
   "source": [
    "# .replace(old, new[, count])\n",
    "# old를 찾아서 new로 바꿔줌(count만큼)\n",
    "a = 'wooooooooow'\n",
    "print(a.replace('o', '!', 3))\n",
    "print(a)"
   ]
  },
  {
   "cell_type": "code",
   "execution_count": null,
   "id": "45b80748-8565-41c4-9679-6d3278042156",
   "metadata": {},
   "outputs": [],
   "source": [
    "# .find(x)\n",
    "# 찾는 문자의 위치를 반환해줌\n",
    "# 찾는 문자가 여러곳에 위치해있다면 처음만나는 위치를 반환\n",
    "# 없으면 -1 반환\n",
    "\n",
    "a = 'apple'\n",
    "print(a.find('l'))\n",
    "print(a.find('p'))\n",
    "print(a.find('z'))\n",
    "\n",
    "for i in range(len(a)):\n",
    "    if 'p' == a[i]:\n",
    "        print(i)\n",
    "        break\n",
    "    else:\n",
    "        print(-1)"
   ]
  },
  {
   "cell_type": "code",
   "execution_count": null,
   "id": "5b4e1ef5-17d2-4248-9066-b8cdb9f29ea4",
   "metadata": {},
   "outputs": [],
   "source": [
    "# .index(x)\n",
    "# .find와 유사하지만 찾는 문자가 없으면 오류 발생\n",
    "a = 'apple'\n",
    "print(a.index('a'))\n",
    "print(a.index('z'))"
   ]
  },
  {
   "cell_type": "code",
   "execution_count": null,
   "id": "de2e65e0-fbb5-4d4f-8d5a-90f82b1be774",
   "metadata": {},
   "outputs": [],
   "source": [
    "# .split(x)\n",
    "# x를 기준으로 분할, x입력 안하면 공백을 기준으로 분할\n",
    "a = 'my_name_is'\n",
    "a.split('_')"
   ]
  },
  {
   "cell_type": "code",
   "execution_count": null,
   "id": "c4b03646-5353-4c21-9d4e-0fe9504ba1fc",
   "metadata": {},
   "outputs": [],
   "source": [
    "# .count(x)\n",
    "# 문자열 내부의 x의 갯수 반환\n",
    "'wooooooow'.count('o')"
   ]
  },
  {
   "cell_type": "markdown",
   "id": "310351c4-203f-4f8e-97ac-195101f6ea83",
   "metadata": {},
   "source": [
    "# 리스트 메소드"
   ]
  },
  {
   "cell_type": "code",
   "execution_count": null,
   "id": "fbe813e0-a1e0-42dd-98e3-8bd4dab0129c",
   "metadata": {},
   "outputs": [],
   "source": [
    "numbers = [1, 5, 2, 6, 2, 1]"
   ]
  },
  {
   "cell_type": "code",
   "execution_count": null,
   "id": "989912ed-bc07-49c8-9743-7fe97d7f0de0",
   "metadata": {},
   "outputs": [],
   "source": [
    "# .appent(x)\n",
    "numbers.append(10)\n",
    "print(numbers)"
   ]
  },
  {
   "cell_type": "code",
   "execution_count": null,
   "id": "0559af25-e200-4537-91ef-3fde38a901cb",
   "metadata": {},
   "outputs": [],
   "source": [
    "# .extend(iterable)\n",
    "a = [99, 100]\n",
    "\n",
    "numbers.extend(a)\n",
    "print(numbers)\n",
    "print(numbers + a)"
   ]
  },
  {
   "cell_type": "code",
   "execution_count": null,
   "id": "b5530215-6bfb-4662-aa7c-c1745a93ad13",
   "metadata": {},
   "outputs": [],
   "source": [
    "# .insert(idx, x)\n",
    "# 특정 위치에 집어 넣기\n",
    "numbers.insert(3, 3.5)\n",
    "print(numbers)"
   ]
  },
  {
   "cell_type": "code",
   "execution_count": null,
   "id": "6e19de0a-5e87-4abd-88be-247cf3dae7dc",
   "metadata": {},
   "outputs": [],
   "source": [
    "# .remove(x)\n",
    "numbers.remove(3.5)\n",
    "print(numbers)"
   ]
  },
  {
   "cell_type": "code",
   "execution_count": null,
   "id": "808b8bb7-d992-4423-a0cd-cd6a027c7110",
   "metadata": {},
   "outputs": [],
   "source": [
    "# .remove(x)\n",
    "numbers.remove(3.5)\n",
    "print(numbers)"
   ]
  },
  {
   "cell_type": "code",
   "execution_count": null,
   "id": "7c9b4605-ee45-4df1-984c-00108a054f57",
   "metadata": {},
   "outputs": [],
   "source": [
    "# .pop([idx])\n",
    "# 리스트의 마지막 요소 또는 인덱스에 해당하는 데이터를 빼냄\n",
    "numbers.pop()\n",
    "print(numbers)\n",
    "\n",
    "numbers.pop(0)\n",
    "print(numbers)\n",
    "\n"
   ]
  },
  {
   "cell_type": "code",
   "execution_count": null,
   "id": "2136eda3-633b-4e12-aefb-b6500ddac23a",
   "metadata": {},
   "outputs": [],
   "source": [
    "num = numbers.pop()\n",
    "print(num)"
   ]
  },
  {
   "cell_type": "code",
   "execution_count": null,
   "id": "49bcd145-fd69-47aa-a623-e0f79b48157c",
   "metadata": {},
   "outputs": [],
   "source": [
    "# .sort()\n",
    "# 원본 수정, return 없음\n",
    "numbers = [1, 3, 4, 5, 2, 7, 10]\n",
    "print(numbers)\n",
    "\n",
    "print(numbers.sort())\n",
    "\n",
    "print(numbers)\n",
    "\n",
    "numbers.sort(reverse=True)\n",
    "print(numbers)"
   ]
  },
  {
   "cell_type": "code",
   "execution_count": null,
   "id": "aee87a80-e0c4-4188-8d60-aaf2638f9671",
   "metadata": {},
   "outputs": [],
   "source": [
    "numbers = [1, 3, 4, 5, 2, 7, 10]\n",
    "print(sorted((numbers)))\n",
    "print(numbers)\n",
    "\n",
    "# 메소드 아님(함수임). 원본 그대로, 정렬된 데이터 return"
   ]
  },
  {
   "cell_type": "code",
   "execution_count": null,
   "id": "e33e17f7-cff4-4b77-b293-7a3de9752e43",
   "metadata": {},
   "outputs": [],
   "source": [
    "# .reverse()\n",
    "# 리스트를 뒤집어줌, 원본 수정\n",
    "# list slicing 이용해서 비슷한 결과 낼 수 있음\n",
    "numbers = [1, 3, 4, 5, 2, 7, 10]\n",
    "print(numbers)\n",
    "numbers.reverse()\n",
    "print(numbers)\n",
    "\n",
    "numbers = numbers[  :  : -1 ]\n",
    "print(numbers)"
   ]
  },
  {
   "cell_type": "markdown",
   "id": "d7ab22c1-1f60-4781-b206-2476e43ad1f7",
   "metadata": {},
   "source": [
    "## list copy"
   ]
  },
  {
   "cell_type": "code",
   "execution_count": null,
   "id": "2cf6c8c4-ce30-46d8-8143-a6950c0cd9b5",
   "metadata": {},
   "outputs": [],
   "source": [
    "origin_list = [1, 2, 3]\n",
    "copy_list = origin_list"
   ]
  },
  {
   "cell_type": "code",
   "execution_count": null,
   "id": "92a61893-09c4-450c-8a86-4da3d37cb5f2",
   "metadata": {},
   "outputs": [],
   "source": [
    "print(origin_list)\n",
    "print(copy_list)"
   ]
  },
  {
   "cell_type": "code",
   "execution_count": null,
   "id": "aa4cd6ef-ba3e-46f4-b6c1-df3b2672e519",
   "metadata": {},
   "outputs": [],
   "source": [
    "copy_list[0] = 100"
   ]
  },
  {
   "cell_type": "code",
   "execution_count": null,
   "id": "4391a4e7-9083-4940-a7ca-8b34d79594ed",
   "metadata": {},
   "outputs": [],
   "source": [
    "print(origin_list)\n",
    "print(copy_list)"
   ]
  },
  {
   "cell_type": "markdown",
   "id": "7f527dd1-3a00-4308-a8b5-770dc43c7663",
   "metadata": {},
   "source": [
    "리스트를 copy한 경우 origin_list와 copy_list는 데이터가 저장된 같은 주소를 사용하므로, \n",
    "copy_list의 데이터가 바뀌면 origi_list의 데이터도 함께 바뀜"
   ]
  },
  {
   "cell_type": "code",
   "execution_count": null,
   "id": "09833ca8-c62c-4d96-875f-d54e61bf1957",
   "metadata": {},
   "outputs": [],
   "source": [
    "# 독립적인 리스트가 필요할 경우 list(a)나 a[:]를 이용해 리스트를 복사할 수 있음\n",
    "\n",
    "a = [1, 2, 3]\n",
    "# b = list(a) \n",
    "b = a[:]\n",
    "b[0] = 100\n",
    "\n",
    "print(a)\n",
    "print(b)"
   ]
  },
  {
   "cell_type": "code",
   "execution_count": null,
   "id": "4223fb65-0d85-4fd3-a833-213347a1f35a",
   "metadata": {},
   "outputs": [],
   "source": [
    "# 리스트 안에 리스트가 또 존재할 경우 a와 b 는 또 같은 주소를 가르키게 돼 모두 함께 수정됨\n",
    "\n",
    "a = [1, 2, [99, 100]]\n",
    "b = a[:]\n",
    "# b = list(a)\n",
    "\n",
    "b[2][1] = 1000\n",
    "\n",
    "print(a)\n",
    "print(b)"
   ]
  },
  {
   "cell_type": "code",
   "execution_count": null,
   "id": "7407d261-62e2-47a2-ab7e-91c0ed1a3bfe",
   "metadata": {},
   "outputs": [],
   "source": [
    "# deepcopy 리스트 안에 리스트가 있는 경우 리스트를 완전히 복사하고 독립적으로 사용하고 싶을때 사용\n",
    "import copy\n",
    "a = [1, 2, [99, 100]]\n",
    "b = copy.deepcopy(a)\n",
    "\n",
    "b[2][1] = 1000\n",
    "\n",
    "print(a)\n",
    "print(b)"
   ]
  },
  {
   "cell_type": "markdown",
   "id": "d096574c-1a76-4ba5-b126-531cdab9e0e8",
   "metadata": {},
   "source": [
    "## list comprehension"
   ]
  },
  {
   "cell_type": "code",
   "execution_count": null,
   "id": "dd250655-25b8-47b8-ae2c-2b1b385148dc",
   "metadata": {},
   "outputs": [],
   "source": [
    "numbers = list(range(1, 11))\n",
    "print(numbers)\n"
   ]
  },
  {
   "cell_type": "code",
   "execution_count": null,
   "id": "961f6bb4-b9f6-4b5b-ab30-22304362ac7c",
   "metadata": {},
   "outputs": [],
   "source": [
    "# [1, 8, 27, 1000] -> 세제곱 만들기\n",
    "\n",
    "result = []\n",
    "\n",
    "for number in numbers:\n",
    "    result.append(number ** 3)\n",
    "print(result)"
   ]
  },
  {
   "cell_type": "code",
   "execution_count": null,
   "id": "0232ec29-a115-4913-a881-6a7f6daa00f2",
   "metadata": {},
   "outputs": [],
   "source": [
    "# for 뒤를 먼저 실행한 후에 앞을 실행함\n",
    "result2 = [ number ** 3 for number in numbers ]\n",
    "print(result2)"
   ]
  },
  {
   "cell_type": "code",
   "execution_count": null,
   "id": "f3caa1c3-50da-4ddb-9cb4-8cef425456cc",
   "metadata": {},
   "outputs": [],
   "source": [
    "# 짝수만 고르기\n",
    "even_list = []\n",
    "for number in numbers:\n",
    "    if number % 2 == 0:\n",
    "        even_list.append(number)\n",
    "\n",
    "print(even_list)"
   ]
  },
  {
   "cell_type": "code",
   "execution_count": null,
   "id": "8428643b-286b-4b87-881a-71ac50e987f2",
   "metadata": {},
   "outputs": [],
   "source": [
    "# 짝수만 고르기(list comprehension)\n",
    "even_list2 = [ number for number in numbers if number % 2 == 0]\n",
    "print(even_list2)"
   ]
  },
  {
   "cell_type": "code",
   "execution_count": null,
   "id": "69e99e6b-e428-41be-9948-fb262d999973",
   "metadata": {},
   "outputs": [],
   "source": [
    "words = 'my name is hong'\n",
    "vowels = 'aeiou'\n",
    "\n",
    "# => my nm s hng"
   ]
  },
  {
   "cell_type": "code",
   "execution_count": null,
   "id": "05e46ce8-cd74-4e56-ba2f-3310f494967c",
   "metadata": {},
   "outputs": [],
   "source": [
    "# 1. for문\n",
    "result = []\n",
    "for char in words:\n",
    "    if char not in vowels:\n",
    "        result.append(char)\n",
    "\n",
    "print(result)\n",
    "print(''.join(result))"
   ]
  },
  {
   "cell_type": "code",
   "execution_count": null,
   "id": "5f4164be-1a85-4a77-9ede-1ec005988b70",
   "metadata": {},
   "outputs": [],
   "source": [
    "# 2. list comprihension\n",
    "result = [char for char in words if char not in vowels]\n",
    "print(result)\n",
    "print(''.join(result))"
   ]
  },
  {
   "cell_type": "code",
   "execution_count": null,
   "id": "a98c9cbf-d8ca-45ec-80df-ff56420b4763",
   "metadata": {},
   "outputs": [],
   "source": [
    "words = 'my name is hong'\n",
    "vowels = 'aeiou'\n",
    "\n",
    "for vowel in vowels:\n",
    "    words = words.replace(vowel, '')\n",
    "\n",
    "print(words)"
   ]
  },
  {
   "cell_type": "code",
   "execution_count": null,
   "id": "b6f5665a-8dd8-471e-8638-fcffcefc4612",
   "metadata": {},
   "outputs": [],
   "source": [
    "words = 'My Name Is Hong'\n",
    "vowels = 'aeiou'\n",
    "\n",
    "result = [char for char in words if char not in vowels if char.isupper()]\n",
    "print(result)\n",
    "print(''.join(result))"
   ]
  },
  {
   "cell_type": "markdown",
   "id": "b8392c7a-237b-4583-8528-b56346816924",
   "metadata": {},
   "source": [
    "## 딕셔너리 메소드"
   ]
  },
  {
   "cell_type": "code",
   "execution_count": null,
   "id": "a8dc8755-02cc-4b66-a1b6-188e31b935ab",
   "metadata": {},
   "outputs": [],
   "source": [
    "info = {\n",
    "    'name' : 'hansol',\n",
    "    'location' : 'seoul',\n",
    "}"
   ]
  },
  {
   "cell_type": "code",
   "execution_count": null,
   "id": "43ac539f-82a1-468b-9093-b20fae88f902",
   "metadata": {},
   "outputs": [],
   "source": [
    "info['name'] = 'Kim'\n",
    "print(info)"
   ]
  },
  {
   "cell_type": "code",
   "execution_count": null,
   "id": "56e73983-77fc-4b7e-b5d1-9d415dca1195",
   "metadata": {},
   "outputs": [],
   "source": [
    "# .pop(key[, default])\n",
    "# 해당하는 키의 value를 pop하며 원본 수정\n",
    "print(info)\n",
    "print(info.pop('location'))\n",
    "\n",
    "print(info)\n",
    "print(info.pop('location', 'None'))"
   ]
  },
  {
   "cell_type": "code",
   "execution_count": null,
   "id": "35a4a9c6-4812-4c08-8cbb-0a69a7ad2c18",
   "metadata": {},
   "outputs": [],
   "source": [
    "# .update(key=value)\n",
    "info.update(name='park')\n",
    "print(info)"
   ]
  },
  {
   "cell_type": "code",
   "execution_count": null,
   "id": "cf880499-9168-4771-bd2c-12846e575f18",
   "metadata": {},
   "outputs": [],
   "source": [
    "# .get(key[, default])\n",
    "# 데이터를 가져오기만 함. 원본 수정안함\n",
    "# 해당하는 값이 없으면 none 반환\n",
    "print(info.get('name'))\n",
    "print(info.get('phone'))\n",
    "print(info.get('phone', '해당키가 없습니다.'))"
   ]
  },
  {
   "cell_type": "markdown",
   "id": "c6edfb95-f833-49f8-9ee0-8def2f1e80f9",
   "metadata": {},
   "source": [
    "## dict comprehension"
   ]
  },
  {
   "cell_type": "code",
   "execution_count": null,
   "id": "b4874045-7592-4f1e-9e7b-981f7e2a7827",
   "metadata": {},
   "outputs": [],
   "source": [
    "# for \n",
    "# {1: 1, 2: 8, 3: 27...}\n",
    "result = {}\n",
    "numbers = range(1, 11)\n",
    "for number in numbers:\n",
    "    result[number] = number ** 3\n",
    "\n",
    "\n",
    "print(result)"
   ]
  },
  {
   "cell_type": "code",
   "execution_count": null,
   "id": "977740a5-2415-4d08-bf94-441178ed7bd5",
   "metadata": {},
   "outputs": [],
   "source": [
    "# comp\n",
    "# for 뒷부분에서 앞부분의 key:value를 넣음\n",
    "result2 = {number: number ** 3 for number in range(1, 11) }\n",
    "print(result2)"
   ]
  },
  {
   "cell_type": "code",
   "execution_count": null,
   "id": "e29724f4-d569-49ea-beac-f0b7d0f9870f",
   "metadata": {},
   "outputs": [],
   "source": [
    "#\n",
    "dust = {\n",
    "    '서울': 100,\n",
    "    '대구': 30,\n",
    "    '부산': 50,\n",
    "    '광주': 80,\n",
    "    '제주': 20,    \n",
    "}"
   ]
  },
  {
   "cell_type": "code",
   "execution_count": null,
   "id": "7d0c75aa-9276-4f56-8a3f-a12c152b4a84",
   "metadata": {},
   "outputs": [],
   "source": [
    "# 1. for\n",
    "result = {}\n",
    "for k, v in dust.items():\n",
    "    if v >= 50:\n",
    "        result[k] = v\n",
    "\n",
    "print(result)"
   ]
  },
  {
   "cell_type": "code",
   "execution_count": null,
   "id": "50b5f367-32b4-44e7-bb5e-85d41abc6180",
   "metadata": {},
   "outputs": [],
   "source": [
    "# 2. comp\n",
    "result2 = {k : v for k, v in dust.items() if v >= 50}\n",
    "print(result2)"
   ]
  },
  {
   "cell_type": "markdown",
   "id": "934daf8e-1ef0-4e29-a860-57aa480f150a",
   "metadata": {},
   "source": [
    "# 세트 메소드"
   ]
  },
  {
   "cell_type": "code",
   "execution_count": null,
   "id": "01d6ec06-29b4-4741-92d4-f003be76dcbc",
   "metadata": {},
   "outputs": [],
   "source": [
    "fruits = {'apple', 'banana', 'melon'}"
   ]
  },
  {
   "cell_type": "code",
   "execution_count": null,
   "id": "9444f7ce-0aa2-4810-9807-bdb476fbc75b",
   "metadata": {},
   "outputs": [],
   "source": [
    "# .add()\n",
    "# 세트는 인덱스 접근 불가하므로 정렬되지 않은 데이터가 나옴\n",
    "# 하나의 데이터가 중복 존재할 수 없음\n",
    "fruits.add('watermelon')\n",
    "print(fruits)\n",
    "\n",
    "fruits.add('watermelon')\n",
    "print(fruits)"
   ]
  },
  {
   "cell_type": "code",
   "execution_count": null,
   "id": "92b65e85-3178-47bd-85cc-7706a26cf696",
   "metadata": {},
   "outputs": [],
   "source": [
    "# .update()\n",
    "# 괄호 안에 하나의 값만 넣을 경우시퀀스 형태의 데이터를 하나하나 잘라서 요소를 업데이트함 \n",
    "# 여러 개의 값을 업데이트해줘야함\n",
    "fruits.update('grape')\n",
    "print(fruits)\n",
    "fruits.update({'grape', 'orange'})"
   ]
  },
  {
   "cell_type": "code",
   "execution_count": null,
   "id": "52b49b46-3e97-4181-9dd9-d5d1c739acb0",
   "metadata": {},
   "outputs": [],
   "source": [
    "# .pop\n",
    "fruits.pop()\n",
    "print(fruits)"
   ]
  },
  {
   "cell_type": "markdown",
   "id": "804cf5a0-090d-47a5-a35d-a797635e809e",
   "metadata": {},
   "source": [
    "## map, filter, zip"
   ]
  },
  {
   "cell_type": "markdown",
   "id": "03287e86-74fa-46e4-a5b8-d0a49e90e364",
   "metadata": {},
   "source": [
    "- map(function, iterable)"
   ]
  },
  {
   "cell_type": "code",
   "execution_count": 1,
   "id": "6b0757ba-0035-4d85-91c4-62f20fc98cdd",
   "metadata": {},
   "outputs": [
    {
     "name": "stdout",
     "output_type": "stream",
     "text": [
      "<map object at 0x1040899f0>\n",
      "['1', '2', '3']\n"
     ]
    }
   ],
   "source": [
    "# map(function, iterabl한 객체)\n",
    "a = [1, 2, 3]\n",
    "number_str = map(str, a)\n",
    "print(number_str)\n",
    "print(list(number_str))"
   ]
  },
  {
   "cell_type": "code",
   "execution_count": 2,
   "id": "81464abd-1495-4034-9f89-085dae8dd183",
   "metadata": {},
   "outputs": [
    {
     "name": "stdout",
     "output_type": "stream",
     "text": [
      "125\n",
      "1000\n"
     ]
    }
   ],
   "source": [
    "def cube(x):\n",
    "    return x **3\n",
    "\n",
    "print(cube(5))\n",
    "print(cube(10))\n"
   ]
  },
  {
   "cell_type": "code",
   "execution_count": 3,
   "id": "e016b7d6-5828-4bce-82c4-7e038e12f30c",
   "metadata": {},
   "outputs": [
    {
     "name": "stdout",
     "output_type": "stream",
     "text": [
      "[1, 8, 27]\n"
     ]
    }
   ],
   "source": [
    "result = []\n",
    "for i in a:\n",
    "    result.append(i ** 3)\n",
    "\n",
    "print(result)"
   ]
  },
  {
   "cell_type": "code",
   "execution_count": 4,
   "id": "99e7b0d7-0a2d-4159-8207-ff8158b1bd1c",
   "metadata": {},
   "outputs": [
    {
     "name": "stdout",
     "output_type": "stream",
     "text": [
      "[1, 8, 27]\n"
     ]
    }
   ],
   "source": [
    "result2 = map(cube, a)\n",
    "print(list(result2))"
   ]
  },
  {
   "cell_type": "code",
   "execution_count": 5,
   "id": "6ecd68cb-6470-45fc-a2b1-a1d3b3d14fa1",
   "metadata": {},
   "outputs": [
    {
     "name": "stdout",
     "output_type": "stream",
     "text": [
      "[1, 3, 5, 7, 9]\n"
     ]
    }
   ],
   "source": [
    "a = '1 3 5 7 9'\n",
    "#numbers = [1, 3, 5, 7, 9]\n",
    "numbers = list(map(int, a.split()))\n",
    "print(numbers)"
   ]
  },
  {
   "cell_type": "markdown",
   "id": "5ce6072f-17b6-40ef-8d45-87d62edda734",
   "metadata": {},
   "source": [
    "- filter(function, iterable)\n",
    "    - filter에 들어가는 function은 T/F를 반환해야함"
   ]
  },
  {
   "cell_type": "code",
   "execution_count": 13,
   "id": "e5f32049-86c7-4e3e-8740-b5e31ed1d437",
   "metadata": {},
   "outputs": [
    {
     "name": "stdout",
     "output_type": "stream",
     "text": [
      "True\n",
      "False\n"
     ]
    }
   ],
   "source": [
    "def is_odd(x):\n",
    "    if x % 2 == 1:\n",
    "        return True\n",
    "    else:\n",
    "        return False\n",
    "\n",
    "    #return bool(x % 2)로 해도 됨\n",
    "    \n",
    "print(is_odd(5))\n",
    "print(is_odd(10))"
   ]
  },
  {
   "cell_type": "code",
   "execution_count": 9,
   "id": "8c1abbd1-0ccd-45fa-aa49-7c4adefbf7ac",
   "metadata": {},
   "outputs": [],
   "source": [
    "numbers = [1, 2, 3, 4, 5]\n"
   ]
  },
  {
   "cell_type": "code",
   "execution_count": 10,
   "id": "fbabf32f-705c-44b4-a5eb-aa31fbf424ec",
   "metadata": {},
   "outputs": [
    {
     "name": "stdout",
     "output_type": "stream",
     "text": [
      "[1, 3, 5]\n"
     ]
    }
   ],
   "source": [
    "# for \n",
    "result = []\n",
    "for number in numbers:\n",
    "    if is_odd(number):\n",
    "        result.append(number)\n",
    "        \n",
    "print(result)"
   ]
  },
  {
   "cell_type": "code",
   "execution_count": 12,
   "id": "2221c131-1382-415f-94cf-280e8b313d5d",
   "metadata": {},
   "outputs": [
    {
     "name": "stdout",
     "output_type": "stream",
     "text": [
      "[1, 3, 5]\n"
     ]
    }
   ],
   "source": [
    "# filter\n",
    "result2 = filter(is_odd, numbers)\n",
    "print(list(result2))"
   ]
  },
  {
   "cell_type": "markdown",
   "id": "3c869f8b-3293-418e-bb4a-c5443c587631",
   "metadata": {
    "scrolled": true
   },
   "source": [
    "- zip"
   ]
  },
  {
   "cell_type": "code",
   "execution_count": 17,
   "id": "14c9a39e-5d9e-491e-a92d-0390196936d2",
   "metadata": {},
   "outputs": [],
   "source": [
    "a = [1, 2, 3, 4]\n",
    "b = [100, 200, 300, 400]"
   ]
  },
  {
   "cell_type": "code",
   "execution_count": 18,
   "id": "cd94eb51-53c2-4e24-89b0-4c74384f19e5",
   "metadata": {},
   "outputs": [
    {
     "name": "stdout",
     "output_type": "stream",
     "text": [
      "<zip object at 0x1045725c0>\n",
      "[(1, 100), (2, 200), (3, 300), (4, 400)]\n"
     ]
    }
   ],
   "source": [
    "result = zip(a, b)\n",
    "print(result)\n",
    "print(list(result))"
   ]
  },
  {
   "cell_type": "code",
   "execution_count": null,
   "id": "ad639b93-db63-44a7-ba7f-6f3c48dbab7c",
   "metadata": {},
   "outputs": [],
   "source": []
  }
 ],
 "metadata": {
  "kernelspec": {
   "display_name": "Python 3 (ipykernel)",
   "language": "python",
   "name": "python3"
  },
  "language_info": {
   "codemirror_mode": {
    "name": "ipython",
    "version": 3
   },
   "file_extension": ".py",
   "mimetype": "text/x-python",
   "name": "python",
   "nbconvert_exporter": "python",
   "pygments_lexer": "ipython3",
   "version": "3.11.5"
  }
 },
 "nbformat": 4,
 "nbformat_minor": 5
}
