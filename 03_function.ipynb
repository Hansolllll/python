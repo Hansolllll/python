{
 "cells": [
  {
   "cell_type": "markdown",
   "id": "d4b8012c-013b-42cf-bf51-9d0c1e70abed",
   "metadata": {},
   "source": [
    "# 함수(Function)"
   ]
  },
  {
   "cell_type": "code",
   "execution_count": 3,
   "id": "4993562a-5667-4181-968b-dcb30a3e6374",
   "metadata": {},
   "outputs": [
    {
     "name": "stdout",
     "output_type": "stream",
     "text": [
      "직사각형의 면적은 200, 둘레는 60입니다.\n"
     ]
    }
   ],
   "source": [
    "height = 10\n",
    "width = 20\n",
    "\n",
    "height2 = 50\n",
    "width2 = 100\n",
    "\n",
    "\n",
    "area = height * width\n",
    "perimeter = (height + width) * 2\n",
    "print(f'직사각형의 면적은 {area}, 둘레는 {perimeter}입니다.')\n",
    "\n",
    "area2 = height2 * width2\n"
   ]
  },
  {
   "cell_type": "markdown",
   "id": "f4a75b84-b15e-475f-807e-f38205dcacaf",
   "metadata": {},
   "source": [
    "## 함수의 선언과 호출\n",
    "- 함수의 선언\n",
    "```python\n",
    "def func_name(parameter1, parameter2):\n",
    "    code1\n",
    "    code2\n",
    "    return value\n",
    "```\n",
    "- 함수의 호출(실행)\n",
    "```python\n",
    "func_name(parameter1, parameter2)\n",
    "```"
   ]
  },
  {
   "cell_type": "code",
   "execution_count": 6,
   "id": "52ea8138-b4e0-4b8a-aa8d-35ce714e16c2",
   "metadata": {},
   "outputs": [],
   "source": [
    "def rectangle(height, width):\n",
    "    area = height * width\n",
    "    perimeter = (height + width) * 2\n",
    "    print(area, perimeter)"
   ]
  },
  {
   "cell_type": "code",
   "execution_count": 9,
   "id": "411d28d1-d459-4a97-8fb4-e6a2716b19f6",
   "metadata": {},
   "outputs": [
    {
     "name": "stdout",
     "output_type": "stream",
     "text": [
      "5000 300\n",
      "200 60\n",
      "400 100\n"
     ]
    }
   ],
   "source": [
    "rectangle(100, 50)\n",
    "rectangle(20, 10)\n",
    "rectangle(10, 40)"
   ]
  },
  {
   "cell_type": "code",
   "execution_count": 11,
   "id": "4339131a-4c38-4be1-b589-f37d4b72a344",
   "metadata": {},
   "outputs": [
    {
     "data": {
      "text/plain": [
       "['ArithmeticError',\n",
       " 'AssertionError',\n",
       " 'AttributeError',\n",
       " 'BaseException',\n",
       " 'BaseExceptionGroup',\n",
       " 'BlockingIOError',\n",
       " 'BrokenPipeError',\n",
       " 'BufferError',\n",
       " 'BytesWarning',\n",
       " 'ChildProcessError',\n",
       " 'ConnectionAbortedError',\n",
       " 'ConnectionError',\n",
       " 'ConnectionRefusedError',\n",
       " 'ConnectionResetError',\n",
       " 'DeprecationWarning',\n",
       " 'EOFError',\n",
       " 'Ellipsis',\n",
       " 'EncodingWarning',\n",
       " 'EnvironmentError',\n",
       " 'Exception',\n",
       " 'ExceptionGroup',\n",
       " 'False',\n",
       " 'FileExistsError',\n",
       " 'FileNotFoundError',\n",
       " 'FloatingPointError',\n",
       " 'FutureWarning',\n",
       " 'GeneratorExit',\n",
       " 'IOError',\n",
       " 'ImportError',\n",
       " 'ImportWarning',\n",
       " 'IndentationError',\n",
       " 'IndexError',\n",
       " 'InterruptedError',\n",
       " 'IsADirectoryError',\n",
       " 'KeyError',\n",
       " 'KeyboardInterrupt',\n",
       " 'LookupError',\n",
       " 'MemoryError',\n",
       " 'ModuleNotFoundError',\n",
       " 'NameError',\n",
       " 'None',\n",
       " 'NotADirectoryError',\n",
       " 'NotImplemented',\n",
       " 'NotImplementedError',\n",
       " 'OSError',\n",
       " 'OverflowError',\n",
       " 'PendingDeprecationWarning',\n",
       " 'PermissionError',\n",
       " 'ProcessLookupError',\n",
       " 'RecursionError',\n",
       " 'ReferenceError',\n",
       " 'ResourceWarning',\n",
       " 'RuntimeError',\n",
       " 'RuntimeWarning',\n",
       " 'StopAsyncIteration',\n",
       " 'StopIteration',\n",
       " 'SyntaxError',\n",
       " 'SyntaxWarning',\n",
       " 'SystemError',\n",
       " 'SystemExit',\n",
       " 'TabError',\n",
       " 'TimeoutError',\n",
       " 'True',\n",
       " 'TypeError',\n",
       " 'UnboundLocalError',\n",
       " 'UnicodeDecodeError',\n",
       " 'UnicodeEncodeError',\n",
       " 'UnicodeError',\n",
       " 'UnicodeTranslateError',\n",
       " 'UnicodeWarning',\n",
       " 'UserWarning',\n",
       " 'ValueError',\n",
       " 'Warning',\n",
       " 'ZeroDivisionError',\n",
       " '__IPYTHON__',\n",
       " '__build_class__',\n",
       " '__debug__',\n",
       " '__doc__',\n",
       " '__import__',\n",
       " '__loader__',\n",
       " '__name__',\n",
       " '__package__',\n",
       " '__spec__',\n",
       " 'abs',\n",
       " 'aiter',\n",
       " 'all',\n",
       " 'anext',\n",
       " 'any',\n",
       " 'ascii',\n",
       " 'bin',\n",
       " 'bool',\n",
       " 'breakpoint',\n",
       " 'bytearray',\n",
       " 'bytes',\n",
       " 'callable',\n",
       " 'chr',\n",
       " 'classmethod',\n",
       " 'compile',\n",
       " 'complex',\n",
       " 'copyright',\n",
       " 'credits',\n",
       " 'delattr',\n",
       " 'dict',\n",
       " 'dir',\n",
       " 'display',\n",
       " 'divmod',\n",
       " 'enumerate',\n",
       " 'eval',\n",
       " 'exec',\n",
       " 'execfile',\n",
       " 'filter',\n",
       " 'float',\n",
       " 'format',\n",
       " 'frozenset',\n",
       " 'get_ipython',\n",
       " 'getattr',\n",
       " 'globals',\n",
       " 'hasattr',\n",
       " 'hash',\n",
       " 'help',\n",
       " 'hex',\n",
       " 'id',\n",
       " 'input',\n",
       " 'int',\n",
       " 'isinstance',\n",
       " 'issubclass',\n",
       " 'iter',\n",
       " 'len',\n",
       " 'license',\n",
       " 'list',\n",
       " 'locals',\n",
       " 'map',\n",
       " 'max',\n",
       " 'memoryview',\n",
       " 'min',\n",
       " 'next',\n",
       " 'object',\n",
       " 'oct',\n",
       " 'open',\n",
       " 'ord',\n",
       " 'pow',\n",
       " 'print',\n",
       " 'property',\n",
       " 'range',\n",
       " 'repr',\n",
       " 'reversed',\n",
       " 'round',\n",
       " 'runfile',\n",
       " 'set',\n",
       " 'setattr',\n",
       " 'slice',\n",
       " 'sorted',\n",
       " 'staticmethod',\n",
       " 'str',\n",
       " 'sum',\n",
       " 'super',\n",
       " 'tuple',\n",
       " 'type',\n",
       " 'vars',\n",
       " 'zip']"
      ]
     },
     "execution_count": 11,
     "metadata": {},
     "output_type": "execute_result"
    }
   ],
   "source": [
    "dir(__builtins__)"
   ]
  },
  {
   "cell_type": "code",
   "execution_count": 12,
   "id": "b70aeb73-719a-4e0b-b736-676c157e4933",
   "metadata": {},
   "outputs": [
    {
     "data": {
      "text/plain": [
       "7"
      ]
     },
     "execution_count": 12,
     "metadata": {},
     "output_type": "execute_result"
    }
   ],
   "source": [
    "max(1, 3, 5, 7, 6)"
   ]
  },
  {
   "cell_type": "code",
   "execution_count": 27,
   "id": "1ed82ed1-f31f-4ff1-a022-830a2ea3a00d",
   "metadata": {},
   "outputs": [],
   "source": [
    "# 두 개의 정수를 받아서 큰 수를 출력\n",
    "def my_max(num1, num2):\n",
    "    if num1 > num2:\n",
    "        print('num1이 num2 보다 큽니다.')\n",
    "    elif num1 < num2:\n",
    "        print('num2가 num1 보다 큽니다.')\n",
    "    else:\n",
    "        print('두 수가 같습니다.')\n",
    "\n",
    "    # return None"
   ]
  },
  {
   "cell_type": "code",
   "execution_count": 26,
   "id": "fe38aeec-2d5e-4dc8-92f1-8af5f0324037",
   "metadata": {},
   "outputs": [
    {
     "name": "stdout",
     "output_type": "stream",
     "text": [
      "num2가 num1 보다 큽니다.\n",
      "두 수가 같습니다.\n",
      "None\n"
     ]
    }
   ],
   "source": [
    "my_max(24, 43)\n",
    "a = my_max(5, 5)\n",
    "print(a)"
   ]
  },
  {
   "cell_type": "markdown",
   "id": "89687acb-c7c6-43a2-ba52-793460363a85",
   "metadata": {},
   "source": [
    "## 함수의 return\n",
    "\n",
    "- 함수가 return을 만나면 해당 값을 반환하고 함수를 종료\n",
    "- 만약 return이 없다면 None을 자동으로 반환\n",
    "- return은 오직 하나의 객체만 반환"
   ]
  },
  {
   "cell_type": "code",
   "execution_count": 24,
   "id": "fa7a39f7-c3bc-45e9-b827-c6eaa5cf056a",
   "metadata": {},
   "outputs": [],
   "source": [
    "def my_max2(num1, num2):\n",
    "    # return 'hello'\n",
    "    \n",
    "    if num1 > num2:\n",
    "        return num1\n",
    "    elif num1 < num2:\n",
    "        return num2 \n",
    "    else:\n",
    "        return num1"
   ]
  },
  {
   "cell_type": "code",
   "execution_count": 25,
   "id": "85475801-cd5c-4578-9291-42809c4749a1",
   "metadata": {},
   "outputs": [
    {
     "name": "stdout",
     "output_type": "stream",
     "text": [
      "2\n"
     ]
    }
   ],
   "source": [
    "a = my_max2(1, 2)\n",
    "print(a)"
   ]
  },
  {
   "cell_type": "code",
   "execution_count": 28,
   "id": "1d65fd09-297d-44f3-a2b0-5fb4163d548b",
   "metadata": {},
   "outputs": [],
   "source": [
    "def my_list_max(list1, list2):\n",
    "    \n",
    "    if sum(list1) > sum(list2):\n",
    "        return list1\n",
    "    else:\n",
    "        return list2"
   ]
  },
  {
   "cell_type": "code",
   "execution_count": 29,
   "id": "0b901783-f207-4ce3-b6ba-ae9a5bce85f4",
   "metadata": {},
   "outputs": [
    {
     "data": {
      "text/plain": [
       "[2, 3, 4]"
      ]
     },
     "execution_count": 29,
     "metadata": {},
     "output_type": "execute_result"
    }
   ],
   "source": [
    "my_list_max([1, 2, 3], [2, 3, 4])"
   ]
  },
  {
   "cell_type": "code",
   "execution_count": 30,
   "id": "d7cb6132-dffe-42d0-93e7-03b6f0819fa4",
   "metadata": {},
   "outputs": [],
   "source": [
    "# return 1, 2 같은 데이터를 넣으면 (1, 2)같은 튜플로 반환됨"
   ]
  },
  {
   "cell_type": "code",
   "execution_count": 35,
   "id": "00e7c2f9-1767-49b8-bff5-1d6012225515",
   "metadata": {},
   "outputs": [],
   "source": [
    "def my_def(x):\n",
    "    return x * 2"
   ]
  },
  {
   "cell_type": "code",
   "execution_count": 33,
   "id": "ade51eeb-7b3b-4b8e-9d3b-16a2e1379726",
   "metadata": {},
   "outputs": [
    {
     "name": "stdout",
     "output_type": "stream",
     "text": [
      "10\n"
     ]
    }
   ],
   "source": [
    "a = my_def(5)\n",
    "print(a)"
   ]
  },
  {
   "cell_type": "code",
   "execution_count": 36,
   "id": "23bec4ca-b3e0-463a-9843-c91d62410bd0",
   "metadata": {},
   "outputs": [],
   "source": [
    "def my_def2(x):\n",
    "    print(x * 2)"
   ]
  },
  {
   "cell_type": "code",
   "execution_count": 37,
   "id": "596d0016-3740-4432-9145-43427b80bd38",
   "metadata": {},
   "outputs": [
    {
     "name": "stdout",
     "output_type": "stream",
     "text": [
      "20\n",
      "None\n"
     ]
    }
   ],
   "source": [
    "a = my_def2(10)\n",
    "print(a)"
   ]
  },
  {
   "cell_type": "markdown",
   "id": "48440532-7de6-43fa-84da-1da6ddae7255",
   "metadata": {},
   "source": [
    "## 함수의 인수"
   ]
  },
  {
   "cell_type": "markdown",
   "id": "53fb4261-48c3-4b85-ab32-7c16c28ebea0",
   "metadata": {},
   "source": [
    "### 위치인수\n",
    "기본적으로 함수는 인수의 위치로 판단합니다."
   ]
  },
  {
   "cell_type": "code",
   "execution_count": 38,
   "id": "4e902798-6a34-4ce1-b81c-50983cb672e8",
   "metadata": {},
   "outputs": [],
   "source": [
    "def cylinder(r, h):\n",
    "    return 3.14 * r**2 * h"
   ]
  },
  {
   "cell_type": "code",
   "execution_count": 42,
   "id": "3c8def6c-1ac4-4c47-b137-e53d548c8261",
   "metadata": {},
   "outputs": [
    {
     "data": {
      "text/plain": [
       "785.0"
      ]
     },
     "execution_count": 42,
     "metadata": {},
     "output_type": "execute_result"
    }
   ],
   "source": [
    "cylinder(10, 5)\n",
    "cylinder(5, 10)\n",
    "\n",
    "#주피터 노트북은 마지막 cylinder 함수의 값을 return 해줌"
   ]
  },
  {
   "cell_type": "markdown",
   "id": "efecf0a2-fed2-44f4-a964-a382ab371c20",
   "metadata": {},
   "source": [
    "### 기본값\n",
    "\n",
    "```python\n",
    "def func(p1 = v1):\n",
    "    code...\n",
    "    return p1\n",
    "```"
   ]
  },
  {
   "cell_type": "code",
   "execution_count": 47,
   "id": "eb0036e7-46bd-47b5-8ad1-7145945e2132",
   "metadata": {},
   "outputs": [],
   "source": [
    "def greeting(name='익명'):\n",
    "    return f'{name}님 안녕하세요!!'"
   ]
  },
  {
   "cell_type": "code",
   "execution_count": 45,
   "id": "704045d6-b5dc-47a8-b5fb-af2c159d6545",
   "metadata": {},
   "outputs": [
    {
     "data": {
      "text/plain": [
       "'한솔님 안녕하세요!!'"
      ]
     },
     "execution_count": 45,
     "metadata": {},
     "output_type": "execute_result"
    }
   ],
   "source": [
    "greeting('한솔')"
   ]
  },
  {
   "cell_type": "code",
   "execution_count": 49,
   "id": "ed4774ea-51e2-4888-8e6e-3746fc61e15c",
   "metadata": {},
   "outputs": [
    {
     "data": {
      "text/plain": [
       "'익명님 안녕하세요!!'"
      ]
     },
     "execution_count": 49,
     "metadata": {},
     "output_type": "execute_result"
    }
   ],
   "source": [
    "greeting()\n",
    "\n",
    "# 사용자가 값(=인수)를 넣지 않았을 때 기본값인 '익명'이 출력됨"
   ]
  },
  {
   "cell_type": "code",
   "execution_count": 52,
   "id": "51f3c45b-0609-4104-8efb-1b0e05018cc6",
   "metadata": {},
   "outputs": [
    {
     "name": "stdout",
     "output_type": "stream",
     "text": [
      "hello!!world\n"
     ]
    }
   ],
   "source": [
    "print('hello', 'world', sep = '!!')"
   ]
  },
  {
   "cell_type": "code",
   "execution_count": 53,
   "id": "4f096d71-d335-4964-a756-3a1a8d9a20c9",
   "metadata": {},
   "outputs": [
    {
     "ename": "SyntaxError",
     "evalue": "non-default argument follows default argument (2027944172.py, line 1)",
     "output_type": "error",
     "traceback": [
      "\u001b[0;36m  Cell \u001b[0;32mIn[53], line 1\u001b[0;36m\u001b[0m\n\u001b[0;31m    def greeting(name='익명', age):\u001b[0m\n\u001b[0m                            ^\u001b[0m\n\u001b[0;31mSyntaxError\u001b[0m\u001b[0;31m:\u001b[0m non-default argument follows default argument\n"
     ]
    }
   ],
   "source": [
    "def greeting(name='익명', age):\n",
    "    return f'{name}님은 {age}살입니다.'"
   ]
  },
  {
   "cell_type": "code",
   "execution_count": 54,
   "id": "8e89f9b8-15dc-4c8b-b404-a552a734fc1d",
   "metadata": {},
   "outputs": [],
   "source": [
    "# 기본값인자를 가장 마지막에 넣어줘야함(파이썬이 인자를 어떤 위치에 넣어야하는지 헷갈려함)"
   ]
  },
  {
   "cell_type": "code",
   "execution_count": 55,
   "id": "399ebd02-ab7d-41be-9295-a90fe1d46f81",
   "metadata": {},
   "outputs": [],
   "source": [
    "def greeting(age, name='익명'):\n",
    "    return f'{name}님은 {age}살입니다.'"
   ]
  },
  {
   "cell_type": "code",
   "execution_count": 57,
   "id": "7fc0b541-bb52-497b-9563-a227683e1774",
   "metadata": {},
   "outputs": [
    {
     "name": "stdout",
     "output_type": "stream",
     "text": [
      "홍길동님은 50살입니다.\n",
      "익명님은 10살입니다.\n"
     ]
    }
   ],
   "source": [
    "print(greeting(50, '홍길동'))\n",
    "print(greeting(10))"
   ]
  },
  {
   "cell_type": "markdown",
   "id": "92859bca-2c91-410e-9d84-c1a4b681dec7",
   "metadata": {},
   "source": [
    "### 키워드 인자\n",
    "함수를 호출(실행)할 때 내가 원하는 위치에 직접적으로 특정인자를 전달 가능"
   ]
  },
  {
   "cell_type": "code",
   "execution_count": 58,
   "id": "02ffcd02-b8aa-49c8-937f-11e67be63fa1",
   "metadata": {},
   "outputs": [],
   "source": [
    "def greeting(age, name='익명'):\n",
    "    return f'{name}님은 {age}살입니다.'"
   ]
  },
  {
   "cell_type": "code",
   "execution_count": 62,
   "id": "54f149fd-1927-4d5a-97f7-9ade4e523d09",
   "metadata": {},
   "outputs": [
    {
     "name": "stdout",
     "output_type": "stream",
     "text": [
      "익명님은 10살입니다.\n",
      "홍길동님은 20살입니다.\n",
      "20님은 홍길동살입니다.\n",
      "홍길동님은 20살입니다.\n"
     ]
    }
   ],
   "source": [
    "print(greeting(10))\n",
    "print(greeting(20, '홍길동'))\n",
    "print(greeting('홍길동', 20))\n",
    "print(greeting(name='홍길동', age=20))"
   ]
  },
  {
   "cell_type": "code",
   "execution_count": 63,
   "id": "34be3fe5-c5f5-4589-9e05-05f896eb04a0",
   "metadata": {},
   "outputs": [
    {
     "name": "stdout",
     "output_type": "stream",
     "text": [
      "a b c d\n"
     ]
    }
   ],
   "source": [
    "print('a', 'b', 'c', 'd')"
   ]
  },
  {
   "cell_type": "markdown",
   "id": "8d6691e3-9d4a-4f8f-9f0b-c8527927b78a",
   "metadata": {},
   "source": [
    "### 가변 인자 리스트\n",
    "```python\n",
    "def func(*parms):\n",
    "    code\n",
    "    ...\n",
    "```"
   ]
  },
  {
   "cell_type": "code",
   "execution_count": 66,
   "id": "80322be6-8332-47d3-8b24-f7a0a15e93d0",
   "metadata": {},
   "outputs": [],
   "source": [
    "def my_print(*words):\n",
    "    print(words)\n",
    "    print(type(words))"
   ]
  },
  {
   "cell_type": "code",
   "execution_count": 67,
   "id": "61df6a21-dc64-4a23-9a4d-a55f96a1d16d",
   "metadata": {},
   "outputs": [
    {
     "name": "stdout",
     "output_type": "stream",
     "text": [
      "('a', 'b', 'c', 'd')\n",
      "<class 'tuple'>\n"
     ]
    }
   ],
   "source": [
    "my_print('a', 'b', 'c', 'd')"
   ]
  },
  {
   "cell_type": "code",
   "execution_count": 69,
   "id": "ec1922dc-45d8-4120-8c8e-144b0aa6ce37",
   "metadata": {},
   "outputs": [
    {
     "name": "stdout",
     "output_type": "stream",
     "text": [
      "a공간b공간c공간d\n",
      "a/b/c/d\n"
     ]
    }
   ],
   "source": [
    "print('a', 'b', 'c', 'd', sep='공간')\n",
    "print('a', 'b', 'c', 'd', sep='/')"
   ]
  },
  {
   "cell_type": "code",
   "execution_count": 70,
   "id": "59674b9a-0026-4591-b35f-ceb1b0287564",
   "metadata": {},
   "outputs": [
    {
     "data": {
      "text/plain": [
       "7"
      ]
     },
     "execution_count": 70,
     "metadata": {},
     "output_type": "execute_result"
    }
   ],
   "source": [
    "max(1, 2, 3, 4, 5, 6, 7)"
   ]
  },
  {
   "cell_type": "code",
   "execution_count": 74,
   "id": "b04414be-5bf1-4870-b27d-d295a922bae8",
   "metadata": {},
   "outputs": [],
   "source": [
    "# 여러개의 숫자를 받아 그 중 가장 큰 수를 리턴\n",
    "def my_max(*numbers):\n",
    "    result = numbers[0]\n",
    "    \n",
    "    for number in numbers:\n",
    "        if result < number:\n",
    "            result = number\n",
    "    \n",
    "    return result\n",
    "            "
   ]
  },
  {
   "cell_type": "code",
   "execution_count": 75,
   "id": "4f9a5c26-0ebe-4fa8-89f7-5e792453686c",
   "metadata": {},
   "outputs": [
    {
     "name": "stdout",
     "output_type": "stream",
     "text": [
      "5\n",
      "-1\n"
     ]
    }
   ],
   "source": [
    "print(my_max(1, 2, 3, 4, 5))\n",
    "print(my_max(-1, -2, -3))"
   ]
  },
  {
   "cell_type": "markdown",
   "id": "022d32a4-d4d3-49b7-8058-724ecc908ccc",
   "metadata": {},
   "source": [
    "### 정의되지 않은 키워드 인자 처리하기\n",
    "```python\n",
    "def func(**kwargs):\n",
    "    code\n",
    "    ...\n",
    "\n",
    "```"
   ]
  },
  {
   "cell_type": "code",
   "execution_count": 77,
   "id": "bfb96aa7-57e7-4ab8-bee9-a296f2d620c9",
   "metadata": {},
   "outputs": [
    {
     "name": "stdout",
     "output_type": "stream",
     "text": [
      "{'name': 'hong', 'age': 10}\n"
     ]
    }
   ],
   "source": [
    "info = {\n",
    "    'name': 'hong',\n",
    "    'age': 10,\n",
    "}\n",
    "print(info)"
   ]
  },
  {
   "cell_type": "code",
   "execution_count": 84,
   "id": "18dcc786-e074-408d-8e36-bcdced545ee3",
   "metadata": {},
   "outputs": [
    {
     "name": "stdout",
     "output_type": "stream",
     "text": [
      "{'name': 'hong', 'age': 20}\n"
     ]
    }
   ],
   "source": [
    "info = dict(name = 'hong', age = 20)\n",
    "print(info)"
   ]
  },
  {
   "cell_type": "code",
   "execution_count": 88,
   "id": "6a4750fe-693f-4ffc-af85-0e5dcf7dcdf2",
   "metadata": {},
   "outputs": [],
   "source": [
    "def fake_dict(**kwargs):\n",
    "    for key, value in kwargs.items():\n",
    "        print(f'{key}는 {value}입니다.')"
   ]
  },
  {
   "cell_type": "code",
   "execution_count": 89,
   "id": "cd003b6a-9a33-4643-9f4c-f82bcd884833",
   "metadata": {},
   "outputs": [
    {
     "name": "stdout",
     "output_type": "stream",
     "text": [
      "a는 10입니다.\n",
      "b는 20입니다.\n",
      "korean는 안녕입니다.\n",
      "english는 hello입니다.\n"
     ]
    }
   ],
   "source": [
    "fake_dict(a = 10, b = 20)\n",
    "fake_dict(korean = '안녕', english = 'hello')"
   ]
  },
  {
   "cell_type": "markdown",
   "id": "cb6db6de-d5c2-4b35-8749-302c7eab953d",
   "metadata": {},
   "source": [
    "### dictionary를 인자로 넣기(unpacking)"
   ]
  },
  {
   "cell_type": "code",
   "execution_count": 91,
   "id": "c735f331-d70d-450c-9b91-6bf9a23899ca",
   "metadata": {},
   "outputs": [],
   "source": [
    "def sign_up(id, pw, pw_confirmation):\n",
    "    if pw == pw_confirmation:\n",
    "        print(f'{id}님 회원가입이 완료되었습니다.')\n",
    "    else:\n",
    "        print('비밀번호가 일치하지 않습니다.')\n",
    "        "
   ]
  },
  {
   "cell_type": "code",
   "execution_count": 92,
   "id": "76c654f6-95e8-4476-afeb-610ff4f37ca4",
   "metadata": {},
   "outputs": [
    {
     "name": "stdout",
     "output_type": "stream",
     "text": [
      "hansol님 회원가입이 완료되었습니다.\n",
      "비밀번호가 일치하지 않습니다.\n"
     ]
    }
   ],
   "source": [
    "sign_up('hansol', '123', '123')\n",
    "sign_up('hansol', '123', '12')"
   ]
  },
  {
   "cell_type": "code",
   "execution_count": 93,
   "id": "bfd707ae-13a8-46d5-adc2-c70f574bd101",
   "metadata": {},
   "outputs": [
    {
     "name": "stdout",
     "output_type": "stream",
     "text": [
      "hansol님 회원가입이 완료되었습니다.\n"
     ]
    }
   ],
   "source": [
    "account = {\n",
    "    'id': 'hansol',\n",
    "    'pw': '123',\n",
    "    'pw_confirmation': '123' \n",
    "}\n",
    "sign_up(**account)"
   ]
  },
  {
   "cell_type": "markdown",
   "id": "b1076f05-6477-40d3-be5c-520c904b1e67",
   "metadata": {},
   "source": [
    "### lambda 표현식\n",
    "\n",
    "```python\n",
    "lambda parameter: expression\n",
    "```"
   ]
  },
  {
   "cell_type": "code",
   "execution_count": 101,
   "id": "6aad0922-7d91-4555-ba68-fd2288c40f57",
   "metadata": {},
   "outputs": [
    {
     "data": {
      "text/plain": [
       "3"
      ]
     },
     "execution_count": 101,
     "metadata": {},
     "output_type": "execute_result"
    }
   ],
   "source": [
    "(lambda x, y: x + y)(1, 2)\n",
    "\n",
    "# x, y:와 x + y 사이에 return이 숨겨져 있다고 이해할 것"
   ]
  },
  {
   "cell_type": "code",
   "execution_count": 98,
   "id": "e2f8c67a-093b-4288-b6c9-74a43d320bfd",
   "metadata": {},
   "outputs": [
    {
     "data": {
      "text/plain": [
       "3"
      ]
     },
     "execution_count": 98,
     "metadata": {},
     "output_type": "execute_result"
    }
   ],
   "source": [
    "def my_sum(x, y):\n",
    "    return x + y\n",
    "\n",
    "my_sum(1, 2)"
   ]
  },
  {
   "cell_type": "markdown",
   "id": "7935d34b-b2fa-47da-8034-f2debc5f06ab",
   "metadata": {},
   "source": [
    "### 타입힌트"
   ]
  },
  {
   "cell_type": "code",
   "execution_count": 106,
   "id": "42440134-91b1-4074-a632-f084bc154775",
   "metadata": {},
   "outputs": [],
   "source": [
    "def my_sum(a: int, b: int) -> int:\n",
    "    return a + b"
   ]
  },
  {
   "cell_type": "code",
   "execution_count": 105,
   "id": "e8e9686c-2c2c-44c0-8e6d-5c1c5617a553",
   "metadata": {},
   "outputs": [
    {
     "ename": "TypeError",
     "evalue": "can only concatenate str (not \"int\") to str",
     "output_type": "error",
     "traceback": [
      "\u001b[0;31m---------------------------------------------------------------------------\u001b[0m",
      "\u001b[0;31mTypeError\u001b[0m                                 Traceback (most recent call last)",
      "Cell \u001b[0;32mIn[105], line 1\u001b[0m\n\u001b[0;32m----> 1\u001b[0m \u001b[43mmy_sum\u001b[49m\u001b[43m(\u001b[49m\u001b[38;5;124;43m'\u001b[39;49m\u001b[38;5;124;43m1\u001b[39;49m\u001b[38;5;124;43m'\u001b[39;49m\u001b[43m,\u001b[49m\u001b[43m \u001b[49m\u001b[38;5;241;43m2\u001b[39;49m\u001b[43m)\u001b[49m\n",
      "Cell \u001b[0;32mIn[103], line 2\u001b[0m, in \u001b[0;36mmy_sum\u001b[0;34m(a, b)\u001b[0m\n\u001b[1;32m      1\u001b[0m \u001b[38;5;28;01mdef\u001b[39;00m \u001b[38;5;21mmy_sum\u001b[39m(a, b):\n\u001b[0;32m----> 2\u001b[0m     \u001b[38;5;28;01mreturn\u001b[39;00m \u001b[43ma\u001b[49m\u001b[43m \u001b[49m\u001b[38;5;241;43m+\u001b[39;49m\u001b[43m \u001b[49m\u001b[43mb\u001b[49m\n",
      "\u001b[0;31mTypeError\u001b[0m: can only concatenate str (not \"int\") to str"
     ]
    }
   ],
   "source": [
    "my_sum('1', 2)"
   ]
  },
  {
   "cell_type": "markdown",
   "id": "0f65bd3e-5efb-4c64-ab9b-ae0b46db033c",
   "metadata": {},
   "source": [
    "### 이름공간(scope)\n",
    "python에서 사용되는 이름들은 이름공간(namespace)에 저장되어 있음\n",
    "\n",
    "- Local scope: 정의된 함수 내부\n",
    "- Enclosed scope: 상위 함수\n",
    "- Global scope: 함수 밖의 변수 혹은 import된 모듈\n",
    "- Built-in scope: python이 기본적으로 가지고 있는 함수 혹은 변수"
   ]
  },
  {
   "cell_type": "code",
   "execution_count": 107,
   "id": "36c8ec71-1fea-4ebb-bac6-e23e45c8f149",
   "metadata": {},
   "outputs": [],
   "source": [
    "str = '123'"
   ]
  },
  {
   "cell_type": "code",
   "execution_count": 108,
   "id": "e0a3b29b-55d4-4b6f-b259-0d54ebce124d",
   "metadata": {},
   "outputs": [
    {
     "name": "stdout",
     "output_type": "stream",
     "text": [
      "123\n"
     ]
    }
   ],
   "source": [
    "print(str)"
   ]
  },
  {
   "cell_type": "code",
   "execution_count": 111,
   "id": "84e5759d-f293-469d-9c9c-99aae420532e",
   "metadata": {},
   "outputs": [
    {
     "data": {
      "text/plain": [
       "'123'"
      ]
     },
     "execution_count": 111,
     "metadata": {},
     "output_type": "execute_result"
    }
   ],
   "source": [
    "str(123)"
   ]
  },
  {
   "cell_type": "code",
   "execution_count": 112,
   "id": "dc9f3a99-235c-43d3-b551-f2fb52a0647c",
   "metadata": {},
   "outputs": [
    {
     "ename": "NameError",
     "evalue": "name 'str' is not defined",
     "output_type": "error",
     "traceback": [
      "\u001b[0;31m---------------------------------------------------------------------------\u001b[0m",
      "\u001b[0;31mNameError\u001b[0m                                 Traceback (most recent call last)",
      "Cell \u001b[0;32mIn[112], line 1\u001b[0m\n\u001b[0;32m----> 1\u001b[0m \u001b[38;5;28;01mdel\u001b[39;00m \u001b[38;5;28;43mstr\u001b[39;49m\n\u001b[1;32m      2\u001b[0m \u001b[38;5;66;03m# 위에서 만든 str 이름의 상자를 지워버려서 python 기존의 함수에 접근가능하게 함\u001b[39;00m\n",
      "\u001b[0;31mNameError\u001b[0m: name 'str' is not defined"
     ]
    }
   ],
   "source": [
    "del str\n",
    "\n",
    "# 위에서 만든 str 이름의 상자를 지워버려서 python 기존의 함수에 접근가능하게 함"
   ]
  },
  {
   "cell_type": "code",
   "execution_count": 115,
   "id": "4eb61b14-80bd-4855-9304-160a973a98e6",
   "metadata": {},
   "outputs": [
    {
     "name": "stdout",
     "output_type": "stream",
     "text": [
      "5\n",
      "1\n"
     ]
    }
   ],
   "source": [
    "a = 1\n",
    "\n",
    "def local_scope(a):\n",
    "    print(a)\n",
    "\n",
    "local_scope(5)\n",
    "print(a)"
   ]
  },
  {
   "cell_type": "code",
   "execution_count": 116,
   "id": "4a4f9dfa-1431-45d5-893a-57ddd10b1596",
   "metadata": {},
   "outputs": [
    {
     "name": "stdout",
     "output_type": "stream",
     "text": [
      "10\n"
     ]
    }
   ],
   "source": [
    "a = 10\n",
    "\n",
    "def global_scope():\n",
    "    global a\n",
    "    print(a)\n",
    "\n",
    "global_scope()"
   ]
  },
  {
   "cell_type": "markdown",
   "id": "8a03d2ef-4218-47f2-9b9c-33c561393b1a",
   "metadata": {},
   "source": [
    "### 재귀(reculsive)\n",
    "재귀 함수는 함수 내부에서 자기 자신을 호출하는 함수를 의미"
   ]
  },
  {
   "cell_type": "code",
   "execution_count": 118,
   "id": "273a5990-6ce2-4169-9bd7-5fa173d82723",
   "metadata": {},
   "outputs": [
    {
     "name": "stdout",
     "output_type": "stream",
     "text": [
      "120\n"
     ]
    }
   ],
   "source": [
    "# 팩토리얼(n! = 1 * 2 * 3 * ... * n)\n",
    "def fact(n):\n",
    "    result = 1\n",
    "\n",
    "    while n > 1:\n",
    "        result = result * n\n",
    "        # result *= n\n",
    "\n",
    "        n = n - 1\n",
    "        # n -= 1\n",
    "\n",
    "    return result\n",
    "\n",
    "print(fact(5))"
   ]
  },
  {
   "cell_type": "markdown",
   "id": "2e9a89f3-761a-4cfb-b4c1-19240487a412",
   "metadata": {},
   "source": [
    "n! = 1 * 2 * 3 * ... * n-1 * n\n",
    "\n",
    "- 1! = 1\n",
    "- 2! = 1 * 2 = 1! * 2\n",
    "- 3! = 1 * 2 * 3 = 2! * 3\n",
    "- 4! = 1 * 2 * 3 * 4 = 3! * 4\n"
   ]
  },
  {
   "cell_type": "code",
   "execution_count": 120,
   "id": "40fec0fd-5542-403a-bfe9-93fd0d908b48",
   "metadata": {},
   "outputs": [
    {
     "name": "stdout",
     "output_type": "stream",
     "text": [
      "120\n"
     ]
    }
   ],
   "source": [
    "def factorial(n):\n",
    "    if n <= 1:\n",
    "        return 1\n",
    "    else:\n",
    "        return factorial(n-1) * n\n",
    "\n",
    "print(factorial(5))\n",
    "        "
   ]
  },
  {
   "cell_type": "markdown",
   "id": "ead0d74f-1532-4a85-9a50-1c2bde80ba32",
   "metadata": {},
   "source": [
    "#### 피보나치 수열\n",
    "- F(0) = F(1) = 1\n",
    "- F(N) = F(N-1) + F(N-2)"
   ]
  },
  {
   "cell_type": "code",
   "execution_count": 122,
   "id": "dfcc9336-3cd1-4601-8835-c0a54a8dd5cc",
   "metadata": {},
   "outputs": [
    {
     "name": "stdout",
     "output_type": "stream",
     "text": [
      "89\n"
     ]
    }
   ],
   "source": [
    "# 반복문\n",
    "def fib_loop(n):\n",
    "    result = [1, 1]\n",
    "\n",
    "    for i in range(1, n):\n",
    "        end1 = result[-1]\n",
    "        end2 = result[-2]\n",
    "\n",
    "        fib_num = end1 + end2\n",
    "\n",
    "        result.append(fib_num)\n",
    "\n",
    "    return result[-1]\n",
    "\n",
    "print(fib_loop(10))"
   ]
  },
  {
   "cell_type": "code",
   "execution_count": 124,
   "id": "8e2742e2-a970-4163-9292-d00524b16551",
   "metadata": {},
   "outputs": [
    {
     "name": "stdout",
     "output_type": "stream",
     "text": [
      "89\n"
     ]
    }
   ],
   "source": [
    "# 재귀\n",
    "def fib_rec(n):\n",
    "    if n == 0 or n == 1:\n",
    "        return 1\n",
    "    else:\n",
    "        return fib_rec(n-1) + fib_rec(n-2)\n",
    "\n",
    "print(fib_rec(10))\n",
    "\n",
    "# 이 상황에서는 함수 내에서 함수 호출이 계속 이뤄지기 때문에 속도가 느리지만 재귀가 효과적인 상황이 존재함 "
   ]
  },
  {
   "cell_type": "code",
   "execution_count": null,
   "id": "73eec339-2047-4033-9ef0-3f6830423026",
   "metadata": {},
   "outputs": [],
   "source": []
  },
  {
   "cell_type": "code",
   "execution_count": null,
   "id": "3a73be23-2591-43fb-a4df-7f61e55d469c",
   "metadata": {},
   "outputs": [],
   "source": []
  }
 ],
 "metadata": {
  "kernelspec": {
   "display_name": "Python 3 (ipykernel)",
   "language": "python",
   "name": "python3"
  },
  "language_info": {
   "codemirror_mode": {
    "name": "ipython",
    "version": 3
   },
   "file_extension": ".py",
   "mimetype": "text/x-python",
   "name": "python",
   "nbconvert_exporter": "python",
   "pygments_lexer": "ipython3",
   "version": "3.11.5"
  }
 },
 "nbformat": 4,
 "nbformat_minor": 5
}
