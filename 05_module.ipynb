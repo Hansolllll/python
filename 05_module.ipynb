{
 "cells": [
  {
   "cell_type": "markdown",
   "id": "66683ae8-37ee-4930-aabe-9e0f28d44e6a",
   "metadata": {},
   "source": [
    "# 모듈"
   ]
  },
  {
   "cell_type": "code",
   "execution_count": 8,
   "id": "f5ff11bb-bbeb-48f5-bee7-cc66790c9c93",
   "metadata": {},
   "outputs": [],
   "source": [
    "import fibo"
   ]
  },
  {
   "cell_type": "code",
   "execution_count": 2,
   "id": "a2a4a460-9f3c-4d4a-804f-30b055815377",
   "metadata": {},
   "outputs": [
    {
     "name": "stdout",
     "output_type": "stream",
     "text": [
      "<module 'fibo' from '/Users/solki/Desktop/camp31/python/fibo.py'>\n"
     ]
    }
   ],
   "source": [
    "print(fibo)"
   ]
  },
  {
   "cell_type": "code",
   "execution_count": 3,
   "id": "afcc0d8f-802c-49fe-8a6c-cd597e82759a",
   "metadata": {},
   "outputs": [
    {
     "data": {
      "text/plain": [
       "89"
      ]
     },
     "execution_count": 3,
     "metadata": {},
     "output_type": "execute_result"
    }
   ],
   "source": [
    "fibo.fib_loop(10)"
   ]
  },
  {
   "cell_type": "code",
   "execution_count": 4,
   "id": "b3d91567-deb5-4aa3-885a-d7efffd805cc",
   "metadata": {},
   "outputs": [
    {
     "data": {
      "text/plain": [
       "8"
      ]
     },
     "execution_count": 4,
     "metadata": {},
     "output_type": "execute_result"
    }
   ],
   "source": [
    "fibo.fib_rec(5)"
   ]
  },
  {
   "cell_type": "markdown",
   "id": "2264be94-6c1c-42f4-a8b0-8e9d0a586425",
   "metadata": {},
   "source": [
    "# 패키지\n",
    "\n",
    "```\n",
    "myPackage/\n",
    "    __init__.py\n",
    "    math/\n",
    "        __init__.py\n",
    "        fibo.py\n",
    "        fomula.py\n",
    "```\n",
    "패키지 안에 `__init__.py` 파일이 있어야 패키지로 인식    "
   ]
  },
  {
   "cell_type": "code",
   "execution_count": 11,
   "id": "53b35a20-cbc6-4371-92fc-945a5324d6ee",
   "metadata": {},
   "outputs": [],
   "source": [
    "import myPackage"
   ]
  },
  {
   "cell_type": "code",
   "execution_count": 12,
   "id": "0f9ff556-cc86-4bb1-8d3e-32778e5fa11b",
   "metadata": {},
   "outputs": [
    {
     "name": "stdout",
     "output_type": "stream",
     "text": [
      "<module 'myPackage' from '/Users/solki/Desktop/camp31/python/myPackage/__init__.py'>\n"
     ]
    }
   ],
   "source": [
    "print(myPackage)"
   ]
  },
  {
   "cell_type": "code",
   "execution_count": 13,
   "id": "9803c6d2-27d0-4d8a-97e2-e6b16a2760f0",
   "metadata": {},
   "outputs": [],
   "source": [
    "from myPackage.math import fomula"
   ]
  },
  {
   "cell_type": "code",
   "execution_count": 14,
   "id": "45958894-0807-4eb0-b794-eabdc08cdfba",
   "metadata": {},
   "outputs": [
    {
     "data": {
      "text/plain": [
       "3.14"
      ]
     },
     "execution_count": 14,
     "metadata": {},
     "output_type": "execute_result"
    }
   ],
   "source": [
    "fomula.pi"
   ]
  },
  {
   "cell_type": "code",
   "execution_count": 15,
   "id": "484cff18-f293-467b-a4b4-99a9cfb66165",
   "metadata": {},
   "outputs": [
    {
     "data": {
      "text/plain": [
       "2"
      ]
     },
     "execution_count": 15,
     "metadata": {},
     "output_type": "execute_result"
    }
   ],
   "source": [
    "fomula.my_max(1,2)"
   ]
  },
  {
   "cell_type": "code",
   "execution_count": 17,
   "id": "50d73226-416f-44bc-b400-3e1c4c304359",
   "metadata": {},
   "outputs": [
    {
     "data": {
      "text/plain": [
       "3.14"
      ]
     },
     "execution_count": 17,
     "metadata": {},
     "output_type": "execute_result"
    }
   ],
   "source": [
    "import myPackage\n",
    "\n",
    "myPackage.math.fomula.my_max(1, 2)\n",
    "myPackage.math.fomula.pi"
   ]
  },
  {
   "cell_type": "code",
   "execution_count": 21,
   "id": "e9db797e-6d3f-479f-932c-ed28972f4197",
   "metadata": {},
   "outputs": [],
   "source": [
    "from myPackage.math.fibo import *"
   ]
  },
  {
   "cell_type": "code",
   "execution_count": 22,
   "id": "19ae9fd7-7ea4-4cfe-a570-6b8e1c1b6ccb",
   "metadata": {},
   "outputs": [
    {
     "data": {
      "text/plain": [
       "8"
      ]
     },
     "execution_count": 22,
     "metadata": {},
     "output_type": "execute_result"
    }
   ],
   "source": [
    "fib_loop(5)"
   ]
  },
  {
   "cell_type": "code",
   "execution_count": 23,
   "id": "e4a5236d-e513-4e9a-a9a3-6931d1c515ae",
   "metadata": {},
   "outputs": [
    {
     "data": {
      "text/plain": [
       "5"
      ]
     },
     "execution_count": 23,
     "metadata": {},
     "output_type": "execute_result"
    }
   ],
   "source": [
    "fib_rec(4)"
   ]
  },
  {
   "cell_type": "code",
   "execution_count": 27,
   "id": "5c98ae23-268c-40f9-b3fd-f36b25a923c5",
   "metadata": {},
   "outputs": [
    {
     "name": "stdout",
     "output_type": "stream",
     "text": [
      "1234\n"
     ]
    }
   ],
   "source": [
    "fomula = 1234\n",
    "from myPackage.math import fomula as f\n",
    "\n",
    "print(fomula)\n",
    "\n",
    "# 기존에 존재하는 변수와 불러오는 함수의 이름이 충돌하는 경우 as 를 이용해 이름을 바꿔서 불러올 수 있음\n"
   ]
  },
  {
   "cell_type": "markdown",
   "id": "b24dddcb-cd1c-45ce-b448-4942ed090882",
   "metadata": {},
   "source": [
    "## 파이썬 내장 패키지\n",
    "### math"
   ]
  },
  {
   "cell_type": "code",
   "execution_count": 28,
   "id": "31b7c176-57ac-4395-93d4-d60ecd761509",
   "metadata": {},
   "outputs": [],
   "source": [
    "import math"
   ]
  },
  {
   "cell_type": "code",
   "execution_count": 29,
   "id": "aebcd31f-81f7-47c0-b87a-ba183ada851b",
   "metadata": {},
   "outputs": [
    {
     "data": {
      "text/plain": [
       "3.141592653589793"
      ]
     },
     "execution_count": 29,
     "metadata": {},
     "output_type": "execute_result"
    }
   ],
   "source": [
    "math. pi"
   ]
  },
  {
   "cell_type": "code",
   "execution_count": 30,
   "id": "7d43712a-6365-4fef-a109-54203d143b11",
   "metadata": {},
   "outputs": [
    {
     "data": {
      "text/plain": [
       "2.718281828459045"
      ]
     },
     "execution_count": 30,
     "metadata": {},
     "output_type": "execute_result"
    }
   ],
   "source": [
    "math. e"
   ]
  },
  {
   "cell_type": "code",
   "execution_count": 31,
   "id": "92c451e9-cdb2-46cb-87c0-0dc614f92e98",
   "metadata": {},
   "outputs": [],
   "source": [
    "pi = 3.141592"
   ]
  },
  {
   "cell_type": "code",
   "execution_count": 189,
   "id": "c685a965-42be-4bce-9105-98951b8b8837",
   "metadata": {},
   "outputs": [
    {
     "data": {
      "text/plain": [
       "4"
      ]
     },
     "execution_count": 189,
     "metadata": {},
     "output_type": "execute_result"
    }
   ],
   "source": [
    "# .ceil() -> 올림처리\n",
    "math.ceil(pi)"
   ]
  },
  {
   "cell_type": "code",
   "execution_count": 188,
   "id": "7c6abdf5-a2dd-483d-86ca-3a752804df8a",
   "metadata": {},
   "outputs": [
    {
     "data": {
      "text/plain": [
       "3"
      ]
     },
     "execution_count": 188,
     "metadata": {},
     "output_type": "execute_result"
    }
   ],
   "source": [
    "# .floor() -> 버림처리\n",
    "math.floor(pi)"
   ]
  },
  {
   "cell_type": "code",
   "execution_count": 187,
   "id": "d2e329ce-ef96-48eb-9cf7-adcdaf0d8506",
   "metadata": {},
   "outputs": [
    {
     "data": {
      "text/plain": [
       "3.0"
      ]
     },
     "execution_count": 187,
     "metadata": {},
     "output_type": "execute_result"
    }
   ],
   "source": [
    "# .sqrt() -> 루트\n",
    "math.sqrt(9)"
   ]
  },
  {
   "cell_type": "code",
   "execution_count": 190,
   "id": "c5740a19-4888-4d58-b073-476fcdf0fb65",
   "metadata": {},
   "outputs": [
    {
     "data": {
      "text/plain": [
       "3628800"
      ]
     },
     "execution_count": 190,
     "metadata": {},
     "output_type": "execute_result"
    }
   ],
   "source": [
    "# .factorial() -> 팩토리얼\n",
    "math.factorial(10)"
   ]
  },
  {
   "cell_type": "markdown",
   "id": "a81cdfe5-24e8-4700-bcd8-a9385e66fb5f",
   "metadata": {},
   "source": [
    "### random"
   ]
  },
  {
   "cell_type": "code",
   "execution_count": 42,
   "id": "b964a625-6bc2-4d21-afe5-7e1a6f0546ee",
   "metadata": {},
   "outputs": [],
   "source": [
    "import random"
   ]
  },
  {
   "cell_type": "code",
   "execution_count": 191,
   "id": "3f868ad8-f834-472f-bc58-0433260b600e",
   "metadata": {},
   "outputs": [
    {
     "data": {
      "text/plain": [
       "0.47224524357611664"
      ]
     },
     "execution_count": 191,
     "metadata": {},
     "output_type": "execute_result"
    }
   ],
   "source": [
    "# .random() -> 실행시마다 난수 생성\n",
    "random.random()"
   ]
  },
  {
   "cell_type": "code",
   "execution_count": 192,
   "id": "512a0320-5a72-427b-98ad-16bff5b0ec07",
   "metadata": {},
   "outputs": [
    {
     "data": {
      "text/plain": [
       "7"
      ]
     },
     "execution_count": 192,
     "metadata": {},
     "output_type": "execute_result"
    }
   ],
   "source": [
    "# .randint() -> ()안의 범위에서 임의의 정수 반환\n",
    "random.randint(1, 10)"
   ]
  },
  {
   "cell_type": "code",
   "execution_count": 193,
   "id": "86f3fcea-d50f-4840-aa3c-ef36ef592755",
   "metadata": {},
   "outputs": [
    {
     "data": {
      "text/plain": [
       "0.13436424411240122"
      ]
     },
     "execution_count": 193,
     "metadata": {},
     "output_type": "execute_result"
    }
   ],
   "source": [
    "# .seed() -> ()안의 수를 기반으로 랜덤하게 계산된 숫자 반환 & 반복해도 같은 값\n",
    "random.seed(1)\n",
    "random.random()"
   ]
  },
  {
   "cell_type": "code",
   "execution_count": 197,
   "id": "deace2c8-1004-410d-89d6-5086d3605034",
   "metadata": {},
   "outputs": [
    {
     "name": "stdout",
     "output_type": "stream",
     "text": [
      "[1, 2, 3, 4, 5]\n",
      "[3, 4, 5, 1, 2]\n"
     ]
    }
   ],
   "source": [
    "# .shuffle() -> 리스트 내부 값 무작위 정렬\n",
    "a = [1, 2, 3, 4, 5]\n",
    "print(a)\n",
    "\n",
    "random.shuffle(a)\n",
    "print(a)\n"
   ]
  },
  {
   "cell_type": "code",
   "execution_count": 196,
   "id": "afb58bc1-bcfb-4cb0-ac7b-77227c83786f",
   "metadata": {},
   "outputs": [
    {
     "data": {
      "text/plain": [
       "'바위'"
      ]
     },
     "execution_count": 196,
     "metadata": {},
     "output_type": "execute_result"
    }
   ],
   "source": [
    "# .choice() -> 무작위 복원추출\n",
    "rcp = ['가위', '바위', '보']\n",
    "random.choice(rcp)"
   ]
  },
  {
   "cell_type": "code",
   "execution_count": 194,
   "id": "c87533b0-329e-4be6-8ab0-a5180e6a5af2",
   "metadata": {},
   "outputs": [
    {
     "data": {
      "text/plain": [
       "[5, 17, 8, 32, 29, 31]"
      ]
     },
     "execution_count": 194,
     "metadata": {},
     "output_type": "execute_result"
    }
   ],
   "source": [
    "# .sample(population, k) -> 범위 안에서 k개의 데이터 뽑음  \n",
    "random.sample(range(1, 46), 6)"
   ]
  },
  {
   "cell_type": "markdown",
   "id": "11c27602-99c2-4486-a3ed-5345835908cc",
   "metadata": {},
   "source": [
    "### datetime"
   ]
  },
  {
   "cell_type": "code",
   "execution_count": 136,
   "id": "35e730c1-199c-418e-b3b6-bbc44d7bb722",
   "metadata": {},
   "outputs": [],
   "source": [
    "# datetime 폴더에서 datetime 파일 불러오기\n",
    "from datetime import datetime"
   ]
  },
  {
   "cell_type": "code",
   "execution_count": 198,
   "id": "7d7ca725-5cd2-497c-a825-80430389ea72",
   "metadata": {},
   "outputs": [
    {
     "data": {
      "text/plain": [
       "datetime.datetime(2023, 10, 11, 17, 39, 11, 667123)"
      ]
     },
     "execution_count": 198,
     "metadata": {},
     "output_type": "execute_result"
    }
   ],
   "source": [
    "# .now() -> 객체 자체가 출력 기능 \n",
    "datetime.now()"
   ]
  },
  {
   "cell_type": "code",
   "execution_count": 199,
   "id": "a6b223b5-93af-4383-b94f-1050e75c7f08",
   "metadata": {},
   "outputs": [
    {
     "name": "stdout",
     "output_type": "stream",
     "text": [
      "2023-10-11 17:40:14.387146\n"
     ]
    }
   ],
   "source": [
    "# .today() -> 현재 날짜 및 시간 반환 & print 통과시 데이터 형태가 보기쉽게 바뀜\n",
    "today = datetime.today()\n",
    "print(today)"
   ]
  },
  {
   "cell_type": "code",
   "execution_count": 200,
   "id": "9bee75ab-275d-4d94-9235-306c3e36c93c",
   "metadata": {},
   "outputs": [
    {
     "data": {
      "text/plain": [
       "datetime.datetime(2023, 10, 11, 8, 44, 13, 134891)"
      ]
     },
     "execution_count": 200,
     "metadata": {},
     "output_type": "execute_result"
    }
   ],
   "source": [
    "# .utcnow -> utc(coordinated universal time)기준 현재 시각 반환\n",
    "datetime.utcnow()"
   ]
  },
  {
   "cell_type": "code",
   "execution_count": 201,
   "id": "3186a1f0-d9ab-462c-bbb3-9ce2d3f4e213",
   "metadata": {},
   "outputs": [
    {
     "data": {
      "text/plain": [
       "'2023/10/11/Wed'"
      ]
     },
     "execution_count": 201,
     "metadata": {},
     "output_type": "execute_result"
    }
   ],
   "source": [
    "# .strftime(string format time) -> 데이터를 보여줄때 우리가 원하는 형식으로 표현\n",
    "now = datetime.now()\n",
    "now.strftime('%Y/%m/%d/%a')"
   ]
  },
  {
   "cell_type": "code",
   "execution_count": 173,
   "id": "b1672e50-253a-47ba-85eb-13da3bf15ec6",
   "metadata": {},
   "outputs": [
    {
     "data": {
      "text/plain": [
       "11"
      ]
     },
     "execution_count": 173,
     "metadata": {},
     "output_type": "execute_result"
    }
   ],
   "source": [
    "# now가 가진 정보확인 가능\n",
    "now.year\n",
    "now.day"
   ]
  },
  {
   "cell_type": "code",
   "execution_count": 174,
   "id": "31cf9a27-03ac-46b6-81fc-e56ae528fdef",
   "metadata": {},
   "outputs": [
    {
     "data": {
      "text/plain": [
       "2"
      ]
     },
     "execution_count": 174,
     "metadata": {},
     "output_type": "execute_result"
    }
   ],
   "source": [
    "# => 0~6 / 월~일\n",
    "now.weekday()"
   ]
  },
  {
   "cell_type": "code",
   "execution_count": 177,
   "id": "c373d27a-a68d-4af3-9889-bf81ab9330c8",
   "metadata": {},
   "outputs": [
    {
     "name": "stdout",
     "output_type": "stream",
     "text": [
      "2023-01-01 00:00:00\n"
     ]
    }
   ],
   "source": [
    "birth = datetime(2023, 1, 1)\n",
    "print(birth)"
   ]
  },
  {
   "cell_type": "code",
   "execution_count": 178,
   "id": "d6922a42-fbda-4138-8a03-d4be06d43721",
   "metadata": {},
   "outputs": [],
   "source": [
    "from datetime import timedelta"
   ]
  },
  {
   "cell_type": "code",
   "execution_count": 181,
   "id": "c17dd3a1-17a6-4f56-bdbe-f4839f6285ab",
   "metadata": {},
   "outputs": [
    {
     "name": "stdout",
     "output_type": "stream",
     "text": [
      "3 days, 0:00:00\n"
     ]
    }
   ],
   "source": [
    "future = timedelta(days=3)\n",
    "print(future)"
   ]
  },
  {
   "cell_type": "code",
   "execution_count": 182,
   "id": "67dcbc02-b1b2-4618-a2ee-73c3ccdeaa6d",
   "metadata": {},
   "outputs": [
    {
     "data": {
      "text/plain": [
       "datetime.datetime(2023, 1, 4, 0, 0)"
      ]
     },
     "execution_count": 182,
     "metadata": {},
     "output_type": "execute_result"
    }
   ],
   "source": [
    "birth + future"
   ]
  },
  {
   "cell_type": "code",
   "execution_count": 183,
   "id": "fd9eccf7-3fa6-47e1-80a8-3c0540213da1",
   "metadata": {},
   "outputs": [
    {
     "name": "stdout",
     "output_type": "stream",
     "text": [
      "81 days, 13:24:41.832561\n"
     ]
    }
   ],
   "source": [
    "new_year = datetime(2024, 1, 1)\n",
    "now = datetime.now()\n",
    "\n",
    "print(new_year - now)"
   ]
  },
  {
   "cell_type": "code",
   "execution_count": 184,
   "id": "2b201952-844e-4ca6-8eda-86c2639578c7",
   "metadata": {},
   "outputs": [
    {
     "name": "stdout",
     "output_type": "stream",
     "text": [
      "2024-01-19 10:35:58.777174\n"
     ]
    }
   ],
   "source": [
    "now = datetime.now()\n",
    "f = timedelta(days=100)\n",
    "\n",
    "print(now + f)"
   ]
  },
  {
   "cell_type": "code",
   "execution_count": null,
   "id": "8f8e3dcd-bb31-4a29-b270-e512c13939eb",
   "metadata": {},
   "outputs": [],
   "source": []
  },
  {
   "cell_type": "code",
   "execution_count": null,
   "id": "6e8e9f39-2129-4e1b-80e8-a201cea09563",
   "metadata": {},
   "outputs": [],
   "source": []
  },
  {
   "cell_type": "code",
   "execution_count": null,
   "id": "29c80317-4c02-47e0-b86b-c30db6ce9419",
   "metadata": {},
   "outputs": [],
   "source": []
  },
  {
   "cell_type": "code",
   "execution_count": null,
   "id": "60419eec-c2ef-46ed-b578-257fa9f86b23",
   "metadata": {},
   "outputs": [],
   "source": []
  },
  {
   "cell_type": "code",
   "execution_count": null,
   "id": "bf6e053c-bad6-430b-8fee-13303ce1a009",
   "metadata": {},
   "outputs": [],
   "source": []
  },
  {
   "cell_type": "code",
   "execution_count": null,
   "id": "8feacbbd-7ac5-4444-8ace-87e781080d87",
   "metadata": {},
   "outputs": [],
   "source": []
  }
 ],
 "metadata": {
  "kernelspec": {
   "display_name": "Python 3 (ipykernel)",
   "language": "python",
   "name": "python3"
  },
  "language_info": {
   "codemirror_mode": {
    "name": "ipython",
    "version": 3
   },
   "file_extension": ".py",
   "mimetype": "text/x-python",
   "name": "python",
   "nbconvert_exporter": "python",
   "pygments_lexer": "ipython3",
   "version": "3.11.5"
  }
 },
 "nbformat": 4,
 "nbformat_minor": 5
}
